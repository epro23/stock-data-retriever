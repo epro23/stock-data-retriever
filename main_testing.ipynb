{
 "cells": [
  {
   "cell_type": "markdown",
   "metadata": {},
   "source": [
    "A good source from... someone at Yale?\n",
    "\n",
    "https://zoo.cs.yale.edu/classes/cs458/lectures/yfinance.html"
   ]
  },
  {
   "cell_type": "code",
   "execution_count": 184,
   "metadata": {},
   "outputs": [],
   "source": [
    "import yfinance as yf\n",
    "import pandas as pd\n",
    "import matplotlib.pyplot as plt\n",
    "import plotly.express as px\n",
    "import numpy as np\n",
    "import seaborn as sns\n",
    "import warnings\n",
    "warnings.filterwarnings(\"ignore\", category=FutureWarning)"
   ]
  },
  {
   "cell_type": "markdown",
   "metadata": {},
   "source": [
    "### Data Retrieval & Basic Manipulation"
   ]
  },
  {
   "cell_type": "code",
   "execution_count": null,
   "metadata": {},
   "outputs": [],
   "source": [
    "def fetch_stock_data(tickers, start_date, end_date, interval=\"60m\"):\n",
    "    \"\"\"\n",
    "    Fetch stock data for given tickers and date range.\n",
    "    \n",
    "    Args:\n",
    "        tickers (list): List of stock ticker symbols (e.g., ['AAPL', 'MSFT']).\n",
    "        start_date (str): Start date (e.g., '2024-10-01').\n",
    "        end_date (str): End date (e.g., '2024-10-31').\n",
    "        interval (str): Interval for data download, valid entries: \n",
    "            ‘1m’, ‘2m’, ‘5m’, ‘15m’, ‘30m’, ‘60m’, ‘90m’, ‘1d’, ‘5d’, ‘1wk’, ‘1mo’, ‘3mo’\n",
    "            recommended: 60m, 1d, 1wk, 1mo.\n",
    "    \n",
    "    Returns:\n",
    "        dict: Dictionary with ticker keys and their data as values, and a list of tickers.\n",
    "    \"\"\"\n",
    "    stock_data = {}\n",
    "\n",
    "    for ticker in tickers:\n",
    "        # Download data for each ticker\n",
    "        data = yf.download(ticker, start=start_date, end=end_date, interval=interval, rounding=True)\n",
    "        # Store ticker_keys in dictionary\n",
    "        stock_data[f\"{ticker}_data\"] = data\n",
    "        stock_data[\"tickers\"] = tickers\n",
    "        \n",
    "    return stock_data\n",
    "\n",
    "def correct_stock_data(stock_data):\n",
    "    \"\"\"\n",
    "    Correct stock data by removing multi-index levels and renaming index column.\n",
    "    \n",
    "    Args:\n",
    "        stock_data (dict): Dictionary of stock data with ticker keys.\n",
    "    \"\"\"\n",
    "    for ticker_key, dataframe in stock_data.items():\n",
    "        if ticker_key == \"tickers\":\n",
    "            continue\n",
    "        stock_data[f\"{ticker_key}\"] = stock_data[f\"{ticker_key}\"].droplevel(\"Ticker\", axis=1)\n",
    "        stock_data[f\"{ticker_key}\"].reset_index(inplace=True)\n",
    "        stock_data[f\"{ticker_key}\"].columns.name = f\"{ticker_key.strip('_data')} Data Index\"\n",
    "    return stock_data\n"
   ]
  },
  {
   "cell_type": "markdown",
   "metadata": {},
   "source": [
    "### Core Data Visualizations"
   ]
  },
  {
   "cell_type": "code",
   "execution_count": 220,
   "metadata": {},
   "outputs": [],
   "source": [
    "def create_individual_graph(stock_data):\n",
    "    \"\"\"\n",
    "    Generate line plots for the adjusted closing prices of stocks.\n",
    "    \n",
    "    Args:\n",
    "        stock_data (dict): Dictionary of stock data with ticker keys.\n",
    "    \"\"\"\n",
    "    for ticker, dataframe in stock_data.items():\n",
    "\n",
    "        # Determine if markers should be shown\n",
    "        markers = len(dataframe) <= 62\n",
    "\n",
    "        # change render mode if large date range - necessary for rangebreaks? uncertain\n",
    "        render_mode = \"auto\"\n",
    "        if len(dataframe) > 999:\n",
    "            render_mode = \"svg\"\n",
    "        \n",
    "        # create line chart\n",
    "        fig = px.line(\n",
    "            dataframe, \n",
    "            x=dataframe.columns[0], \n",
    "            y=\"Adj Close\", \n",
    "            title=f\"Price Trend for {ticker}\", \n",
    "            markers = markers,                    # DISABLE FOR EXPERIMENTING W/ SCATTER\n",
    "            render_mode = render_mode,\n",
    "        )\n",
    "        \n",
    "        # remove weekends, defined as rangebreaks\n",
    "        rangebreaks = [dict(bounds=[\"sat\", \"mon\"])]\n",
    "        \n",
    "        if dataframe.columns[0] == \"Datetime\":\n",
    "            # Exclude hours outside of trading hours\n",
    "            rangebreaks.append(dict(bounds=[16, 9.5], pattern=\"hour\"))\n",
    "\n",
    "        # Update figure layout\n",
    "        fig.update_layout(\n",
    "            xaxis=dict(rangebreaks=rangebreaks),\n",
    "            xaxis_title=\"Date/Time\", \n",
    "            yaxis_title=\"Adjusted Close Price\",            \n",
    "        )\n",
    "        \n",
    "        fig.show()\n",
    "\n",
    "def create_table(stock_data):\n",
    "    \"\"\"\n",
    "    Create a display table of stock data.\n",
    "    \n",
    "    Args:\n",
    "        stock_data (dict): Dictionary of stock data with ticker keys.\n",
    "    \n",
    "    Returns:\n",
    "        pandas dataframe displaying desired financials, dispersed evenly by date into 12 rows\n",
    "    \"\"\"\n",
    "    for ticker_key, dataframe in stock_data.items():\n",
    "        pass"
   ]
  },
  {
   "cell_type": "code",
   "execution_count": 283,
   "metadata": {},
   "outputs": [
    {
     "name": "stderr",
     "output_type": "stream",
     "text": [
      "[*********************100%***********************]  1 of 1 completed\n",
      "[*********************100%***********************]  1 of 1 completed\n",
      "[*********************100%***********************]  1 of 1 completed\n",
      "[*********************100%***********************]  1 of 1 completed\n"
     ]
    }
   ],
   "source": [
    "data = fetch_stock_data(['AAPL', 'MSFT'], '2024-10-01', '2024-10-31', interval='1d')\n",
    "data2 = fetch_stock_data(['AAPL', 'MSFT'], '2024-10-01', '2024-10-31', interval='60m')"
   ]
  },
  {
   "cell_type": "code",
   "execution_count": 285,
   "metadata": {},
   "outputs": [
    {
     "data": {
      "text/plain": [
       "{'AAPL_data': AAPL Data Index            Datetime  Adj Close   Close    High     Low  \\\n",
       " 0               2024-10-01 09:30:00     224.96  224.96  229.62  224.66   \n",
       " 1               2024-10-01 10:30:00     225.48  225.48  225.50  224.52   \n",
       " 2               2024-10-01 11:30:00     225.31  225.31  225.94  225.05   \n",
       " 3               2024-10-01 12:30:00     223.93  223.93  225.40  223.74   \n",
       " 4               2024-10-01 13:30:00     225.46  225.46  225.64  223.84   \n",
       " ..                              ...        ...     ...     ...     ...   \n",
       " 149             2024-10-30 11:30:00     231.20  231.20  231.66  231.06   \n",
       " 150             2024-10-30 12:30:00     230.24  230.24  231.39  230.23   \n",
       " 151             2024-10-30 13:30:00     230.65  230.65  231.00  229.87   \n",
       " 152             2024-10-30 14:30:00     230.73  230.73  230.94  230.17   \n",
       " 153             2024-10-30 15:30:00     230.14  230.14  230.84  229.56   \n",
       " \n",
       " AAPL Data Index    Open    Volume  \n",
       " 0                228.75  18785859  \n",
       " 1                224.98   7238550  \n",
       " 2                225.47   5236262  \n",
       " 3                225.30   4629057  \n",
       " 4                223.93   4115947  \n",
       " ..                  ...       ...  \n",
       " 149              231.56   3239280  \n",
       " 150              231.20   2657234  \n",
       " 151              230.24   3567357  \n",
       " 152              230.62   2963500  \n",
       " 153              230.73   6851304  \n",
       " \n",
       " [154 rows x 7 columns],\n",
       " 'tickers': ['AAPL', 'MSFT'],\n",
       " 'MSFT_data': MSFT Data Index            Datetime  Adj Close   Close    High     Low  \\\n",
       " 0               2024-10-01 09:30:00     421.10  421.10  428.47  420.35   \n",
       " 1               2024-10-01 10:30:00     420.03  420.03  421.89  418.83   \n",
       " 2               2024-10-01 11:30:00     421.82  421.82  422.36  419.75   \n",
       " 3               2024-10-01 12:30:00     420.05  420.05  421.97  419.59   \n",
       " 4               2024-10-01 13:30:00     423.56  423.56  423.62  419.94   \n",
       " ..                              ...        ...     ...     ...     ...   \n",
       " 149             2024-10-30 11:30:00     436.33  436.33  437.18  435.41   \n",
       " 150             2024-10-30 12:30:00     437.42  437.42  437.59  436.24   \n",
       " 151             2024-10-30 13:30:00     434.53  434.53  437.45  434.09   \n",
       " 152             2024-10-30 14:30:00     434.92  434.92  435.36  434.25   \n",
       " 153             2024-10-30 15:30:00     433.63  433.63  435.37  432.23   \n",
       " \n",
       " MSFT Data Index    Open   Volume  \n",
       " 0                428.38  4178893  \n",
       " 1                421.13  2627682  \n",
       " 2                420.05  1435702  \n",
       " 3                421.80  1232017  \n",
       " 4                419.99  1236654  \n",
       " ..                  ...      ...  \n",
       " 149              436.79  1890664  \n",
       " 150              436.32  1845612  \n",
       " 151              437.40  2345058  \n",
       " 152              434.54  2045460  \n",
       " 153              434.92  3839288  \n",
       " \n",
       " [154 rows x 7 columns]}"
      ]
     },
     "execution_count": 285,
     "metadata": {},
     "output_type": "execute_result"
    }
   ],
   "source": [
    "correct_stock_data(data)\n",
    "correct_stock_data(data2)"
   ]
  },
  {
   "cell_type": "code",
   "execution_count": 225,
   "metadata": {},
   "outputs": [
    {
     "data": {
      "application/vnd.plotly.v1+json": {
       "config": {
        "plotlyServerURL": "https://plot.ly"
       },
       "data": [
        {
         "hovertemplate": "Date=%{x}<br>Adj Close=%{y}<extra></extra>",
         "legendgroup": "",
         "line": {
          "color": "#636efa",
          "dash": "solid"
         },
         "marker": {
          "symbol": "circle"
         },
         "mode": "lines+markers",
         "name": "",
         "orientation": "v",
         "showlegend": false,
         "type": "scatter",
         "x": [
          "2024-10-01T00:00:00",
          "2024-10-02T00:00:00",
          "2024-10-03T00:00:00",
          "2024-10-04T00:00:00",
          "2024-10-07T00:00:00",
          "2024-10-08T00:00:00",
          "2024-10-09T00:00:00",
          "2024-10-10T00:00:00",
          "2024-10-11T00:00:00",
          "2024-10-14T00:00:00",
          "2024-10-15T00:00:00",
          "2024-10-16T00:00:00",
          "2024-10-17T00:00:00",
          "2024-10-18T00:00:00",
          "2024-10-21T00:00:00",
          "2024-10-22T00:00:00",
          "2024-10-23T00:00:00",
          "2024-10-24T00:00:00",
          "2024-10-25T00:00:00",
          "2024-10-28T00:00:00",
          "2024-10-29T00:00:00",
          "2024-10-30T00:00:00"
         ],
         "xaxis": "x",
         "y": [
          225.96,
          226.53,
          225.42,
          226.55,
          221.45,
          225.52,
          229.29,
          228.79,
          227.3,
          231.05,
          233.59,
          231.53,
          231.89,
          234.74,
          236.22,
          235.6,
          230.51,
          230.32,
          231.16,
          233.14,
          233.41,
          229.85
         ],
         "yaxis": "y"
        }
       ],
       "layout": {
        "legend": {
         "tracegroupgap": 0
        },
        "template": {
         "data": {
          "bar": [
           {
            "error_x": {
             "color": "#2a3f5f"
            },
            "error_y": {
             "color": "#2a3f5f"
            },
            "marker": {
             "line": {
              "color": "#E5ECF6",
              "width": 0.5
             },
             "pattern": {
              "fillmode": "overlay",
              "size": 10,
              "solidity": 0.2
             }
            },
            "type": "bar"
           }
          ],
          "barpolar": [
           {
            "marker": {
             "line": {
              "color": "#E5ECF6",
              "width": 0.5
             },
             "pattern": {
              "fillmode": "overlay",
              "size": 10,
              "solidity": 0.2
             }
            },
            "type": "barpolar"
           }
          ],
          "carpet": [
           {
            "aaxis": {
             "endlinecolor": "#2a3f5f",
             "gridcolor": "white",
             "linecolor": "white",
             "minorgridcolor": "white",
             "startlinecolor": "#2a3f5f"
            },
            "baxis": {
             "endlinecolor": "#2a3f5f",
             "gridcolor": "white",
             "linecolor": "white",
             "minorgridcolor": "white",
             "startlinecolor": "#2a3f5f"
            },
            "type": "carpet"
           }
          ],
          "choropleth": [
           {
            "colorbar": {
             "outlinewidth": 0,
             "ticks": ""
            },
            "type": "choropleth"
           }
          ],
          "contour": [
           {
            "colorbar": {
             "outlinewidth": 0,
             "ticks": ""
            },
            "colorscale": [
             [
              0,
              "#0d0887"
             ],
             [
              0.1111111111111111,
              "#46039f"
             ],
             [
              0.2222222222222222,
              "#7201a8"
             ],
             [
              0.3333333333333333,
              "#9c179e"
             ],
             [
              0.4444444444444444,
              "#bd3786"
             ],
             [
              0.5555555555555556,
              "#d8576b"
             ],
             [
              0.6666666666666666,
              "#ed7953"
             ],
             [
              0.7777777777777778,
              "#fb9f3a"
             ],
             [
              0.8888888888888888,
              "#fdca26"
             ],
             [
              1,
              "#f0f921"
             ]
            ],
            "type": "contour"
           }
          ],
          "contourcarpet": [
           {
            "colorbar": {
             "outlinewidth": 0,
             "ticks": ""
            },
            "type": "contourcarpet"
           }
          ],
          "heatmap": [
           {
            "colorbar": {
             "outlinewidth": 0,
             "ticks": ""
            },
            "colorscale": [
             [
              0,
              "#0d0887"
             ],
             [
              0.1111111111111111,
              "#46039f"
             ],
             [
              0.2222222222222222,
              "#7201a8"
             ],
             [
              0.3333333333333333,
              "#9c179e"
             ],
             [
              0.4444444444444444,
              "#bd3786"
             ],
             [
              0.5555555555555556,
              "#d8576b"
             ],
             [
              0.6666666666666666,
              "#ed7953"
             ],
             [
              0.7777777777777778,
              "#fb9f3a"
             ],
             [
              0.8888888888888888,
              "#fdca26"
             ],
             [
              1,
              "#f0f921"
             ]
            ],
            "type": "heatmap"
           }
          ],
          "heatmapgl": [
           {
            "colorbar": {
             "outlinewidth": 0,
             "ticks": ""
            },
            "colorscale": [
             [
              0,
              "#0d0887"
             ],
             [
              0.1111111111111111,
              "#46039f"
             ],
             [
              0.2222222222222222,
              "#7201a8"
             ],
             [
              0.3333333333333333,
              "#9c179e"
             ],
             [
              0.4444444444444444,
              "#bd3786"
             ],
             [
              0.5555555555555556,
              "#d8576b"
             ],
             [
              0.6666666666666666,
              "#ed7953"
             ],
             [
              0.7777777777777778,
              "#fb9f3a"
             ],
             [
              0.8888888888888888,
              "#fdca26"
             ],
             [
              1,
              "#f0f921"
             ]
            ],
            "type": "heatmapgl"
           }
          ],
          "histogram": [
           {
            "marker": {
             "pattern": {
              "fillmode": "overlay",
              "size": 10,
              "solidity": 0.2
             }
            },
            "type": "histogram"
           }
          ],
          "histogram2d": [
           {
            "colorbar": {
             "outlinewidth": 0,
             "ticks": ""
            },
            "colorscale": [
             [
              0,
              "#0d0887"
             ],
             [
              0.1111111111111111,
              "#46039f"
             ],
             [
              0.2222222222222222,
              "#7201a8"
             ],
             [
              0.3333333333333333,
              "#9c179e"
             ],
             [
              0.4444444444444444,
              "#bd3786"
             ],
             [
              0.5555555555555556,
              "#d8576b"
             ],
             [
              0.6666666666666666,
              "#ed7953"
             ],
             [
              0.7777777777777778,
              "#fb9f3a"
             ],
             [
              0.8888888888888888,
              "#fdca26"
             ],
             [
              1,
              "#f0f921"
             ]
            ],
            "type": "histogram2d"
           }
          ],
          "histogram2dcontour": [
           {
            "colorbar": {
             "outlinewidth": 0,
             "ticks": ""
            },
            "colorscale": [
             [
              0,
              "#0d0887"
             ],
             [
              0.1111111111111111,
              "#46039f"
             ],
             [
              0.2222222222222222,
              "#7201a8"
             ],
             [
              0.3333333333333333,
              "#9c179e"
             ],
             [
              0.4444444444444444,
              "#bd3786"
             ],
             [
              0.5555555555555556,
              "#d8576b"
             ],
             [
              0.6666666666666666,
              "#ed7953"
             ],
             [
              0.7777777777777778,
              "#fb9f3a"
             ],
             [
              0.8888888888888888,
              "#fdca26"
             ],
             [
              1,
              "#f0f921"
             ]
            ],
            "type": "histogram2dcontour"
           }
          ],
          "mesh3d": [
           {
            "colorbar": {
             "outlinewidth": 0,
             "ticks": ""
            },
            "type": "mesh3d"
           }
          ],
          "parcoords": [
           {
            "line": {
             "colorbar": {
              "outlinewidth": 0,
              "ticks": ""
             }
            },
            "type": "parcoords"
           }
          ],
          "pie": [
           {
            "automargin": true,
            "type": "pie"
           }
          ],
          "scatter": [
           {
            "fillpattern": {
             "fillmode": "overlay",
             "size": 10,
             "solidity": 0.2
            },
            "type": "scatter"
           }
          ],
          "scatter3d": [
           {
            "line": {
             "colorbar": {
              "outlinewidth": 0,
              "ticks": ""
             }
            },
            "marker": {
             "colorbar": {
              "outlinewidth": 0,
              "ticks": ""
             }
            },
            "type": "scatter3d"
           }
          ],
          "scattercarpet": [
           {
            "marker": {
             "colorbar": {
              "outlinewidth": 0,
              "ticks": ""
             }
            },
            "type": "scattercarpet"
           }
          ],
          "scattergeo": [
           {
            "marker": {
             "colorbar": {
              "outlinewidth": 0,
              "ticks": ""
             }
            },
            "type": "scattergeo"
           }
          ],
          "scattergl": [
           {
            "marker": {
             "colorbar": {
              "outlinewidth": 0,
              "ticks": ""
             }
            },
            "type": "scattergl"
           }
          ],
          "scattermapbox": [
           {
            "marker": {
             "colorbar": {
              "outlinewidth": 0,
              "ticks": ""
             }
            },
            "type": "scattermapbox"
           }
          ],
          "scatterpolar": [
           {
            "marker": {
             "colorbar": {
              "outlinewidth": 0,
              "ticks": ""
             }
            },
            "type": "scatterpolar"
           }
          ],
          "scatterpolargl": [
           {
            "marker": {
             "colorbar": {
              "outlinewidth": 0,
              "ticks": ""
             }
            },
            "type": "scatterpolargl"
           }
          ],
          "scatterternary": [
           {
            "marker": {
             "colorbar": {
              "outlinewidth": 0,
              "ticks": ""
             }
            },
            "type": "scatterternary"
           }
          ],
          "surface": [
           {
            "colorbar": {
             "outlinewidth": 0,
             "ticks": ""
            },
            "colorscale": [
             [
              0,
              "#0d0887"
             ],
             [
              0.1111111111111111,
              "#46039f"
             ],
             [
              0.2222222222222222,
              "#7201a8"
             ],
             [
              0.3333333333333333,
              "#9c179e"
             ],
             [
              0.4444444444444444,
              "#bd3786"
             ],
             [
              0.5555555555555556,
              "#d8576b"
             ],
             [
              0.6666666666666666,
              "#ed7953"
             ],
             [
              0.7777777777777778,
              "#fb9f3a"
             ],
             [
              0.8888888888888888,
              "#fdca26"
             ],
             [
              1,
              "#f0f921"
             ]
            ],
            "type": "surface"
           }
          ],
          "table": [
           {
            "cells": {
             "fill": {
              "color": "#EBF0F8"
             },
             "line": {
              "color": "white"
             }
            },
            "header": {
             "fill": {
              "color": "#C8D4E3"
             },
             "line": {
              "color": "white"
             }
            },
            "type": "table"
           }
          ]
         },
         "layout": {
          "annotationdefaults": {
           "arrowcolor": "#2a3f5f",
           "arrowhead": 0,
           "arrowwidth": 1
          },
          "autotypenumbers": "strict",
          "coloraxis": {
           "colorbar": {
            "outlinewidth": 0,
            "ticks": ""
           }
          },
          "colorscale": {
           "diverging": [
            [
             0,
             "#8e0152"
            ],
            [
             0.1,
             "#c51b7d"
            ],
            [
             0.2,
             "#de77ae"
            ],
            [
             0.3,
             "#f1b6da"
            ],
            [
             0.4,
             "#fde0ef"
            ],
            [
             0.5,
             "#f7f7f7"
            ],
            [
             0.6,
             "#e6f5d0"
            ],
            [
             0.7,
             "#b8e186"
            ],
            [
             0.8,
             "#7fbc41"
            ],
            [
             0.9,
             "#4d9221"
            ],
            [
             1,
             "#276419"
            ]
           ],
           "sequential": [
            [
             0,
             "#0d0887"
            ],
            [
             0.1111111111111111,
             "#46039f"
            ],
            [
             0.2222222222222222,
             "#7201a8"
            ],
            [
             0.3333333333333333,
             "#9c179e"
            ],
            [
             0.4444444444444444,
             "#bd3786"
            ],
            [
             0.5555555555555556,
             "#d8576b"
            ],
            [
             0.6666666666666666,
             "#ed7953"
            ],
            [
             0.7777777777777778,
             "#fb9f3a"
            ],
            [
             0.8888888888888888,
             "#fdca26"
            ],
            [
             1,
             "#f0f921"
            ]
           ],
           "sequentialminus": [
            [
             0,
             "#0d0887"
            ],
            [
             0.1111111111111111,
             "#46039f"
            ],
            [
             0.2222222222222222,
             "#7201a8"
            ],
            [
             0.3333333333333333,
             "#9c179e"
            ],
            [
             0.4444444444444444,
             "#bd3786"
            ],
            [
             0.5555555555555556,
             "#d8576b"
            ],
            [
             0.6666666666666666,
             "#ed7953"
            ],
            [
             0.7777777777777778,
             "#fb9f3a"
            ],
            [
             0.8888888888888888,
             "#fdca26"
            ],
            [
             1,
             "#f0f921"
            ]
           ]
          },
          "colorway": [
           "#636efa",
           "#EF553B",
           "#00cc96",
           "#ab63fa",
           "#FFA15A",
           "#19d3f3",
           "#FF6692",
           "#B6E880",
           "#FF97FF",
           "#FECB52"
          ],
          "font": {
           "color": "#2a3f5f"
          },
          "geo": {
           "bgcolor": "white",
           "lakecolor": "white",
           "landcolor": "#E5ECF6",
           "showlakes": true,
           "showland": true,
           "subunitcolor": "white"
          },
          "hoverlabel": {
           "align": "left"
          },
          "hovermode": "closest",
          "mapbox": {
           "style": "light"
          },
          "paper_bgcolor": "white",
          "plot_bgcolor": "#E5ECF6",
          "polar": {
           "angularaxis": {
            "gridcolor": "white",
            "linecolor": "white",
            "ticks": ""
           },
           "bgcolor": "#E5ECF6",
           "radialaxis": {
            "gridcolor": "white",
            "linecolor": "white",
            "ticks": ""
           }
          },
          "scene": {
           "xaxis": {
            "backgroundcolor": "#E5ECF6",
            "gridcolor": "white",
            "gridwidth": 2,
            "linecolor": "white",
            "showbackground": true,
            "ticks": "",
            "zerolinecolor": "white"
           },
           "yaxis": {
            "backgroundcolor": "#E5ECF6",
            "gridcolor": "white",
            "gridwidth": 2,
            "linecolor": "white",
            "showbackground": true,
            "ticks": "",
            "zerolinecolor": "white"
           },
           "zaxis": {
            "backgroundcolor": "#E5ECF6",
            "gridcolor": "white",
            "gridwidth": 2,
            "linecolor": "white",
            "showbackground": true,
            "ticks": "",
            "zerolinecolor": "white"
           }
          },
          "shapedefaults": {
           "line": {
            "color": "#2a3f5f"
           }
          },
          "ternary": {
           "aaxis": {
            "gridcolor": "white",
            "linecolor": "white",
            "ticks": ""
           },
           "baxis": {
            "gridcolor": "white",
            "linecolor": "white",
            "ticks": ""
           },
           "bgcolor": "#E5ECF6",
           "caxis": {
            "gridcolor": "white",
            "linecolor": "white",
            "ticks": ""
           }
          },
          "title": {
           "x": 0.05
          },
          "xaxis": {
           "automargin": true,
           "gridcolor": "white",
           "linecolor": "white",
           "ticks": "",
           "title": {
            "standoff": 15
           },
           "zerolinecolor": "white",
           "zerolinewidth": 2
          },
          "yaxis": {
           "automargin": true,
           "gridcolor": "white",
           "linecolor": "white",
           "ticks": "",
           "title": {
            "standoff": 15
           },
           "zerolinecolor": "white",
           "zerolinewidth": 2
          }
         }
        },
        "title": {
         "text": "Price Trend for AAPL_data"
        },
        "xaxis": {
         "anchor": "y",
         "domain": [
          0,
          1
         ],
         "rangebreaks": [
          {
           "bounds": [
            "sat",
            "mon"
           ]
          }
         ],
         "title": {
          "text": "Date/Time"
         }
        },
        "yaxis": {
         "anchor": "x",
         "domain": [
          0,
          1
         ],
         "title": {
          "text": "Adjusted Close Price"
         }
        }
       }
      }
     },
     "metadata": {},
     "output_type": "display_data"
    },
    {
     "data": {
      "application/vnd.plotly.v1+json": {
       "config": {
        "plotlyServerURL": "https://plot.ly"
       },
       "data": [
        {
         "hovertemplate": "Date=%{x}<br>Adj Close=%{y}<extra></extra>",
         "legendgroup": "",
         "line": {
          "color": "#636efa",
          "dash": "solid"
         },
         "marker": {
          "symbol": "circle"
         },
         "mode": "lines+markers",
         "name": "",
         "orientation": "v",
         "showlegend": false,
         "type": "scatter",
         "x": [
          "2024-10-01T00:00:00",
          "2024-10-02T00:00:00",
          "2024-10-03T00:00:00",
          "2024-10-04T00:00:00",
          "2024-10-07T00:00:00",
          "2024-10-08T00:00:00",
          "2024-10-09T00:00:00",
          "2024-10-10T00:00:00",
          "2024-10-11T00:00:00",
          "2024-10-14T00:00:00",
          "2024-10-15T00:00:00",
          "2024-10-16T00:00:00",
          "2024-10-17T00:00:00",
          "2024-10-18T00:00:00",
          "2024-10-21T00:00:00",
          "2024-10-22T00:00:00",
          "2024-10-23T00:00:00",
          "2024-10-24T00:00:00",
          "2024-10-25T00:00:00",
          "2024-10-28T00:00:00",
          "2024-10-29T00:00:00",
          "2024-10-30T00:00:00"
         ],
         "xaxis": "x",
         "y": [
          419.85,
          416.3,
          415.71,
          415.23,
          408.72,
          413.88,
          416.63,
          415.01,
          415.49,
          418.3,
          417.9,
          415.29,
          415.89,
          417.32,
          417.94,
          426.66,
          423.75,
          423.88,
          427.29,
          425.74,
          431.09,
          431.67
         ],
         "yaxis": "y"
        }
       ],
       "layout": {
        "legend": {
         "tracegroupgap": 0
        },
        "template": {
         "data": {
          "bar": [
           {
            "error_x": {
             "color": "#2a3f5f"
            },
            "error_y": {
             "color": "#2a3f5f"
            },
            "marker": {
             "line": {
              "color": "#E5ECF6",
              "width": 0.5
             },
             "pattern": {
              "fillmode": "overlay",
              "size": 10,
              "solidity": 0.2
             }
            },
            "type": "bar"
           }
          ],
          "barpolar": [
           {
            "marker": {
             "line": {
              "color": "#E5ECF6",
              "width": 0.5
             },
             "pattern": {
              "fillmode": "overlay",
              "size": 10,
              "solidity": 0.2
             }
            },
            "type": "barpolar"
           }
          ],
          "carpet": [
           {
            "aaxis": {
             "endlinecolor": "#2a3f5f",
             "gridcolor": "white",
             "linecolor": "white",
             "minorgridcolor": "white",
             "startlinecolor": "#2a3f5f"
            },
            "baxis": {
             "endlinecolor": "#2a3f5f",
             "gridcolor": "white",
             "linecolor": "white",
             "minorgridcolor": "white",
             "startlinecolor": "#2a3f5f"
            },
            "type": "carpet"
           }
          ],
          "choropleth": [
           {
            "colorbar": {
             "outlinewidth": 0,
             "ticks": ""
            },
            "type": "choropleth"
           }
          ],
          "contour": [
           {
            "colorbar": {
             "outlinewidth": 0,
             "ticks": ""
            },
            "colorscale": [
             [
              0,
              "#0d0887"
             ],
             [
              0.1111111111111111,
              "#46039f"
             ],
             [
              0.2222222222222222,
              "#7201a8"
             ],
             [
              0.3333333333333333,
              "#9c179e"
             ],
             [
              0.4444444444444444,
              "#bd3786"
             ],
             [
              0.5555555555555556,
              "#d8576b"
             ],
             [
              0.6666666666666666,
              "#ed7953"
             ],
             [
              0.7777777777777778,
              "#fb9f3a"
             ],
             [
              0.8888888888888888,
              "#fdca26"
             ],
             [
              1,
              "#f0f921"
             ]
            ],
            "type": "contour"
           }
          ],
          "contourcarpet": [
           {
            "colorbar": {
             "outlinewidth": 0,
             "ticks": ""
            },
            "type": "contourcarpet"
           }
          ],
          "heatmap": [
           {
            "colorbar": {
             "outlinewidth": 0,
             "ticks": ""
            },
            "colorscale": [
             [
              0,
              "#0d0887"
             ],
             [
              0.1111111111111111,
              "#46039f"
             ],
             [
              0.2222222222222222,
              "#7201a8"
             ],
             [
              0.3333333333333333,
              "#9c179e"
             ],
             [
              0.4444444444444444,
              "#bd3786"
             ],
             [
              0.5555555555555556,
              "#d8576b"
             ],
             [
              0.6666666666666666,
              "#ed7953"
             ],
             [
              0.7777777777777778,
              "#fb9f3a"
             ],
             [
              0.8888888888888888,
              "#fdca26"
             ],
             [
              1,
              "#f0f921"
             ]
            ],
            "type": "heatmap"
           }
          ],
          "heatmapgl": [
           {
            "colorbar": {
             "outlinewidth": 0,
             "ticks": ""
            },
            "colorscale": [
             [
              0,
              "#0d0887"
             ],
             [
              0.1111111111111111,
              "#46039f"
             ],
             [
              0.2222222222222222,
              "#7201a8"
             ],
             [
              0.3333333333333333,
              "#9c179e"
             ],
             [
              0.4444444444444444,
              "#bd3786"
             ],
             [
              0.5555555555555556,
              "#d8576b"
             ],
             [
              0.6666666666666666,
              "#ed7953"
             ],
             [
              0.7777777777777778,
              "#fb9f3a"
             ],
             [
              0.8888888888888888,
              "#fdca26"
             ],
             [
              1,
              "#f0f921"
             ]
            ],
            "type": "heatmapgl"
           }
          ],
          "histogram": [
           {
            "marker": {
             "pattern": {
              "fillmode": "overlay",
              "size": 10,
              "solidity": 0.2
             }
            },
            "type": "histogram"
           }
          ],
          "histogram2d": [
           {
            "colorbar": {
             "outlinewidth": 0,
             "ticks": ""
            },
            "colorscale": [
             [
              0,
              "#0d0887"
             ],
             [
              0.1111111111111111,
              "#46039f"
             ],
             [
              0.2222222222222222,
              "#7201a8"
             ],
             [
              0.3333333333333333,
              "#9c179e"
             ],
             [
              0.4444444444444444,
              "#bd3786"
             ],
             [
              0.5555555555555556,
              "#d8576b"
             ],
             [
              0.6666666666666666,
              "#ed7953"
             ],
             [
              0.7777777777777778,
              "#fb9f3a"
             ],
             [
              0.8888888888888888,
              "#fdca26"
             ],
             [
              1,
              "#f0f921"
             ]
            ],
            "type": "histogram2d"
           }
          ],
          "histogram2dcontour": [
           {
            "colorbar": {
             "outlinewidth": 0,
             "ticks": ""
            },
            "colorscale": [
             [
              0,
              "#0d0887"
             ],
             [
              0.1111111111111111,
              "#46039f"
             ],
             [
              0.2222222222222222,
              "#7201a8"
             ],
             [
              0.3333333333333333,
              "#9c179e"
             ],
             [
              0.4444444444444444,
              "#bd3786"
             ],
             [
              0.5555555555555556,
              "#d8576b"
             ],
             [
              0.6666666666666666,
              "#ed7953"
             ],
             [
              0.7777777777777778,
              "#fb9f3a"
             ],
             [
              0.8888888888888888,
              "#fdca26"
             ],
             [
              1,
              "#f0f921"
             ]
            ],
            "type": "histogram2dcontour"
           }
          ],
          "mesh3d": [
           {
            "colorbar": {
             "outlinewidth": 0,
             "ticks": ""
            },
            "type": "mesh3d"
           }
          ],
          "parcoords": [
           {
            "line": {
             "colorbar": {
              "outlinewidth": 0,
              "ticks": ""
             }
            },
            "type": "parcoords"
           }
          ],
          "pie": [
           {
            "automargin": true,
            "type": "pie"
           }
          ],
          "scatter": [
           {
            "fillpattern": {
             "fillmode": "overlay",
             "size": 10,
             "solidity": 0.2
            },
            "type": "scatter"
           }
          ],
          "scatter3d": [
           {
            "line": {
             "colorbar": {
              "outlinewidth": 0,
              "ticks": ""
             }
            },
            "marker": {
             "colorbar": {
              "outlinewidth": 0,
              "ticks": ""
             }
            },
            "type": "scatter3d"
           }
          ],
          "scattercarpet": [
           {
            "marker": {
             "colorbar": {
              "outlinewidth": 0,
              "ticks": ""
             }
            },
            "type": "scattercarpet"
           }
          ],
          "scattergeo": [
           {
            "marker": {
             "colorbar": {
              "outlinewidth": 0,
              "ticks": ""
             }
            },
            "type": "scattergeo"
           }
          ],
          "scattergl": [
           {
            "marker": {
             "colorbar": {
              "outlinewidth": 0,
              "ticks": ""
             }
            },
            "type": "scattergl"
           }
          ],
          "scattermapbox": [
           {
            "marker": {
             "colorbar": {
              "outlinewidth": 0,
              "ticks": ""
             }
            },
            "type": "scattermapbox"
           }
          ],
          "scatterpolar": [
           {
            "marker": {
             "colorbar": {
              "outlinewidth": 0,
              "ticks": ""
             }
            },
            "type": "scatterpolar"
           }
          ],
          "scatterpolargl": [
           {
            "marker": {
             "colorbar": {
              "outlinewidth": 0,
              "ticks": ""
             }
            },
            "type": "scatterpolargl"
           }
          ],
          "scatterternary": [
           {
            "marker": {
             "colorbar": {
              "outlinewidth": 0,
              "ticks": ""
             }
            },
            "type": "scatterternary"
           }
          ],
          "surface": [
           {
            "colorbar": {
             "outlinewidth": 0,
             "ticks": ""
            },
            "colorscale": [
             [
              0,
              "#0d0887"
             ],
             [
              0.1111111111111111,
              "#46039f"
             ],
             [
              0.2222222222222222,
              "#7201a8"
             ],
             [
              0.3333333333333333,
              "#9c179e"
             ],
             [
              0.4444444444444444,
              "#bd3786"
             ],
             [
              0.5555555555555556,
              "#d8576b"
             ],
             [
              0.6666666666666666,
              "#ed7953"
             ],
             [
              0.7777777777777778,
              "#fb9f3a"
             ],
             [
              0.8888888888888888,
              "#fdca26"
             ],
             [
              1,
              "#f0f921"
             ]
            ],
            "type": "surface"
           }
          ],
          "table": [
           {
            "cells": {
             "fill": {
              "color": "#EBF0F8"
             },
             "line": {
              "color": "white"
             }
            },
            "header": {
             "fill": {
              "color": "#C8D4E3"
             },
             "line": {
              "color": "white"
             }
            },
            "type": "table"
           }
          ]
         },
         "layout": {
          "annotationdefaults": {
           "arrowcolor": "#2a3f5f",
           "arrowhead": 0,
           "arrowwidth": 1
          },
          "autotypenumbers": "strict",
          "coloraxis": {
           "colorbar": {
            "outlinewidth": 0,
            "ticks": ""
           }
          },
          "colorscale": {
           "diverging": [
            [
             0,
             "#8e0152"
            ],
            [
             0.1,
             "#c51b7d"
            ],
            [
             0.2,
             "#de77ae"
            ],
            [
             0.3,
             "#f1b6da"
            ],
            [
             0.4,
             "#fde0ef"
            ],
            [
             0.5,
             "#f7f7f7"
            ],
            [
             0.6,
             "#e6f5d0"
            ],
            [
             0.7,
             "#b8e186"
            ],
            [
             0.8,
             "#7fbc41"
            ],
            [
             0.9,
             "#4d9221"
            ],
            [
             1,
             "#276419"
            ]
           ],
           "sequential": [
            [
             0,
             "#0d0887"
            ],
            [
             0.1111111111111111,
             "#46039f"
            ],
            [
             0.2222222222222222,
             "#7201a8"
            ],
            [
             0.3333333333333333,
             "#9c179e"
            ],
            [
             0.4444444444444444,
             "#bd3786"
            ],
            [
             0.5555555555555556,
             "#d8576b"
            ],
            [
             0.6666666666666666,
             "#ed7953"
            ],
            [
             0.7777777777777778,
             "#fb9f3a"
            ],
            [
             0.8888888888888888,
             "#fdca26"
            ],
            [
             1,
             "#f0f921"
            ]
           ],
           "sequentialminus": [
            [
             0,
             "#0d0887"
            ],
            [
             0.1111111111111111,
             "#46039f"
            ],
            [
             0.2222222222222222,
             "#7201a8"
            ],
            [
             0.3333333333333333,
             "#9c179e"
            ],
            [
             0.4444444444444444,
             "#bd3786"
            ],
            [
             0.5555555555555556,
             "#d8576b"
            ],
            [
             0.6666666666666666,
             "#ed7953"
            ],
            [
             0.7777777777777778,
             "#fb9f3a"
            ],
            [
             0.8888888888888888,
             "#fdca26"
            ],
            [
             1,
             "#f0f921"
            ]
           ]
          },
          "colorway": [
           "#636efa",
           "#EF553B",
           "#00cc96",
           "#ab63fa",
           "#FFA15A",
           "#19d3f3",
           "#FF6692",
           "#B6E880",
           "#FF97FF",
           "#FECB52"
          ],
          "font": {
           "color": "#2a3f5f"
          },
          "geo": {
           "bgcolor": "white",
           "lakecolor": "white",
           "landcolor": "#E5ECF6",
           "showlakes": true,
           "showland": true,
           "subunitcolor": "white"
          },
          "hoverlabel": {
           "align": "left"
          },
          "hovermode": "closest",
          "mapbox": {
           "style": "light"
          },
          "paper_bgcolor": "white",
          "plot_bgcolor": "#E5ECF6",
          "polar": {
           "angularaxis": {
            "gridcolor": "white",
            "linecolor": "white",
            "ticks": ""
           },
           "bgcolor": "#E5ECF6",
           "radialaxis": {
            "gridcolor": "white",
            "linecolor": "white",
            "ticks": ""
           }
          },
          "scene": {
           "xaxis": {
            "backgroundcolor": "#E5ECF6",
            "gridcolor": "white",
            "gridwidth": 2,
            "linecolor": "white",
            "showbackground": true,
            "ticks": "",
            "zerolinecolor": "white"
           },
           "yaxis": {
            "backgroundcolor": "#E5ECF6",
            "gridcolor": "white",
            "gridwidth": 2,
            "linecolor": "white",
            "showbackground": true,
            "ticks": "",
            "zerolinecolor": "white"
           },
           "zaxis": {
            "backgroundcolor": "#E5ECF6",
            "gridcolor": "white",
            "gridwidth": 2,
            "linecolor": "white",
            "showbackground": true,
            "ticks": "",
            "zerolinecolor": "white"
           }
          },
          "shapedefaults": {
           "line": {
            "color": "#2a3f5f"
           }
          },
          "ternary": {
           "aaxis": {
            "gridcolor": "white",
            "linecolor": "white",
            "ticks": ""
           },
           "baxis": {
            "gridcolor": "white",
            "linecolor": "white",
            "ticks": ""
           },
           "bgcolor": "#E5ECF6",
           "caxis": {
            "gridcolor": "white",
            "linecolor": "white",
            "ticks": ""
           }
          },
          "title": {
           "x": 0.05
          },
          "xaxis": {
           "automargin": true,
           "gridcolor": "white",
           "linecolor": "white",
           "ticks": "",
           "title": {
            "standoff": 15
           },
           "zerolinecolor": "white",
           "zerolinewidth": 2
          },
          "yaxis": {
           "automargin": true,
           "gridcolor": "white",
           "linecolor": "white",
           "ticks": "",
           "title": {
            "standoff": 15
           },
           "zerolinecolor": "white",
           "zerolinewidth": 2
          }
         }
        },
        "title": {
         "text": "Price Trend for MSFT_data"
        },
        "xaxis": {
         "anchor": "y",
         "domain": [
          0,
          1
         ],
         "rangebreaks": [
          {
           "bounds": [
            "sat",
            "mon"
           ]
          }
         ],
         "title": {
          "text": "Date/Time"
         }
        },
        "yaxis": {
         "anchor": "x",
         "domain": [
          0,
          1
         ],
         "title": {
          "text": "Adjusted Close Price"
         }
        }
       }
      }
     },
     "metadata": {},
     "output_type": "display_data"
    }
   ],
   "source": [
    "create_individual_graph(data)"
   ]
  },
  {
   "cell_type": "code",
   "execution_count": 207,
   "metadata": {},
   "outputs": [
    {
     "data": {
      "text/html": [
       "<div>\n",
       "<style scoped>\n",
       "    .dataframe tbody tr th:only-of-type {\n",
       "        vertical-align: middle;\n",
       "    }\n",
       "\n",
       "    .dataframe tbody tr th {\n",
       "        vertical-align: top;\n",
       "    }\n",
       "\n",
       "    .dataframe thead th {\n",
       "        text-align: right;\n",
       "    }\n",
       "</style>\n",
       "<table border=\"1\" class=\"dataframe\">\n",
       "  <thead>\n",
       "    <tr style=\"text-align: right;\">\n",
       "      <th>AAPL Data Index</th>\n",
       "      <th>Date</th>\n",
       "      <th>Adj Close</th>\n",
       "      <th>Close</th>\n",
       "      <th>High</th>\n",
       "      <th>Low</th>\n",
       "      <th>Open</th>\n",
       "      <th>Volume</th>\n",
       "    </tr>\n",
       "  </thead>\n",
       "  <tbody>\n",
       "    <tr>\n",
       "      <th>0</th>\n",
       "      <td>2024-10-01</td>\n",
       "      <td>225.96</td>\n",
       "      <td>226.21</td>\n",
       "      <td>229.65</td>\n",
       "      <td>223.74</td>\n",
       "      <td>229.52</td>\n",
       "      <td>63285000</td>\n",
       "    </tr>\n",
       "    <tr>\n",
       "      <th>1</th>\n",
       "      <td>2024-10-02</td>\n",
       "      <td>226.53</td>\n",
       "      <td>226.78</td>\n",
       "      <td>227.37</td>\n",
       "      <td>223.02</td>\n",
       "      <td>225.89</td>\n",
       "      <td>32880600</td>\n",
       "    </tr>\n",
       "    <tr>\n",
       "      <th>2</th>\n",
       "      <td>2024-10-03</td>\n",
       "      <td>225.42</td>\n",
       "      <td>225.67</td>\n",
       "      <td>226.81</td>\n",
       "      <td>223.32</td>\n",
       "      <td>225.14</td>\n",
       "      <td>34044200</td>\n",
       "    </tr>\n",
       "    <tr>\n",
       "      <th>3</th>\n",
       "      <td>2024-10-04</td>\n",
       "      <td>226.55</td>\n",
       "      <td>226.80</td>\n",
       "      <td>228.00</td>\n",
       "      <td>224.13</td>\n",
       "      <td>227.90</td>\n",
       "      <td>37245100</td>\n",
       "    </tr>\n",
       "    <tr>\n",
       "      <th>4</th>\n",
       "      <td>2024-10-07</td>\n",
       "      <td>221.45</td>\n",
       "      <td>221.69</td>\n",
       "      <td>225.69</td>\n",
       "      <td>221.33</td>\n",
       "      <td>224.50</td>\n",
       "      <td>39505400</td>\n",
       "    </tr>\n",
       "    <tr>\n",
       "      <th>5</th>\n",
       "      <td>2024-10-08</td>\n",
       "      <td>225.52</td>\n",
       "      <td>225.77</td>\n",
       "      <td>225.98</td>\n",
       "      <td>223.25</td>\n",
       "      <td>224.30</td>\n",
       "      <td>31855700</td>\n",
       "    </tr>\n",
       "    <tr>\n",
       "      <th>6</th>\n",
       "      <td>2024-10-09</td>\n",
       "      <td>229.29</td>\n",
       "      <td>229.54</td>\n",
       "      <td>229.75</td>\n",
       "      <td>224.83</td>\n",
       "      <td>225.23</td>\n",
       "      <td>33591100</td>\n",
       "    </tr>\n",
       "    <tr>\n",
       "      <th>7</th>\n",
       "      <td>2024-10-10</td>\n",
       "      <td>228.79</td>\n",
       "      <td>229.04</td>\n",
       "      <td>229.50</td>\n",
       "      <td>227.17</td>\n",
       "      <td>227.78</td>\n",
       "      <td>28183500</td>\n",
       "    </tr>\n",
       "    <tr>\n",
       "      <th>8</th>\n",
       "      <td>2024-10-11</td>\n",
       "      <td>227.30</td>\n",
       "      <td>227.55</td>\n",
       "      <td>229.41</td>\n",
       "      <td>227.34</td>\n",
       "      <td>229.30</td>\n",
       "      <td>31759200</td>\n",
       "    </tr>\n",
       "    <tr>\n",
       "      <th>9</th>\n",
       "      <td>2024-10-14</td>\n",
       "      <td>231.05</td>\n",
       "      <td>231.30</td>\n",
       "      <td>231.73</td>\n",
       "      <td>228.60</td>\n",
       "      <td>228.70</td>\n",
       "      <td>39882100</td>\n",
       "    </tr>\n",
       "    <tr>\n",
       "      <th>10</th>\n",
       "      <td>2024-10-15</td>\n",
       "      <td>233.59</td>\n",
       "      <td>233.85</td>\n",
       "      <td>237.49</td>\n",
       "      <td>232.37</td>\n",
       "      <td>233.61</td>\n",
       "      <td>64751400</td>\n",
       "    </tr>\n",
       "    <tr>\n",
       "      <th>11</th>\n",
       "      <td>2024-10-16</td>\n",
       "      <td>231.53</td>\n",
       "      <td>231.78</td>\n",
       "      <td>232.12</td>\n",
       "      <td>229.84</td>\n",
       "      <td>231.60</td>\n",
       "      <td>34082200</td>\n",
       "    </tr>\n",
       "    <tr>\n",
       "      <th>12</th>\n",
       "      <td>2024-10-17</td>\n",
       "      <td>231.89</td>\n",
       "      <td>232.15</td>\n",
       "      <td>233.85</td>\n",
       "      <td>230.52</td>\n",
       "      <td>233.43</td>\n",
       "      <td>32993800</td>\n",
       "    </tr>\n",
       "    <tr>\n",
       "      <th>13</th>\n",
       "      <td>2024-10-18</td>\n",
       "      <td>234.74</td>\n",
       "      <td>235.00</td>\n",
       "      <td>236.18</td>\n",
       "      <td>234.01</td>\n",
       "      <td>236.18</td>\n",
       "      <td>46431500</td>\n",
       "    </tr>\n",
       "    <tr>\n",
       "      <th>14</th>\n",
       "      <td>2024-10-21</td>\n",
       "      <td>236.22</td>\n",
       "      <td>236.48</td>\n",
       "      <td>236.85</td>\n",
       "      <td>234.45</td>\n",
       "      <td>234.45</td>\n",
       "      <td>36254500</td>\n",
       "    </tr>\n",
       "    <tr>\n",
       "      <th>15</th>\n",
       "      <td>2024-10-22</td>\n",
       "      <td>235.60</td>\n",
       "      <td>235.86</td>\n",
       "      <td>236.22</td>\n",
       "      <td>232.60</td>\n",
       "      <td>233.89</td>\n",
       "      <td>38846600</td>\n",
       "    </tr>\n",
       "    <tr>\n",
       "      <th>16</th>\n",
       "      <td>2024-10-23</td>\n",
       "      <td>230.51</td>\n",
       "      <td>230.76</td>\n",
       "      <td>235.14</td>\n",
       "      <td>227.76</td>\n",
       "      <td>234.08</td>\n",
       "      <td>52287000</td>\n",
       "    </tr>\n",
       "    <tr>\n",
       "      <th>17</th>\n",
       "      <td>2024-10-24</td>\n",
       "      <td>230.32</td>\n",
       "      <td>230.57</td>\n",
       "      <td>230.82</td>\n",
       "      <td>228.41</td>\n",
       "      <td>229.98</td>\n",
       "      <td>31109500</td>\n",
       "    </tr>\n",
       "    <tr>\n",
       "      <th>18</th>\n",
       "      <td>2024-10-25</td>\n",
       "      <td>231.16</td>\n",
       "      <td>231.41</td>\n",
       "      <td>233.22</td>\n",
       "      <td>229.57</td>\n",
       "      <td>229.74</td>\n",
       "      <td>38802300</td>\n",
       "    </tr>\n",
       "    <tr>\n",
       "      <th>19</th>\n",
       "      <td>2024-10-28</td>\n",
       "      <td>233.14</td>\n",
       "      <td>233.40</td>\n",
       "      <td>234.73</td>\n",
       "      <td>232.55</td>\n",
       "      <td>233.32</td>\n",
       "      <td>36087100</td>\n",
       "    </tr>\n",
       "    <tr>\n",
       "      <th>20</th>\n",
       "      <td>2024-10-29</td>\n",
       "      <td>233.41</td>\n",
       "      <td>233.67</td>\n",
       "      <td>234.33</td>\n",
       "      <td>232.32</td>\n",
       "      <td>233.10</td>\n",
       "      <td>35417200</td>\n",
       "    </tr>\n",
       "    <tr>\n",
       "      <th>21</th>\n",
       "      <td>2024-10-30</td>\n",
       "      <td>229.85</td>\n",
       "      <td>230.10</td>\n",
       "      <td>233.47</td>\n",
       "      <td>229.55</td>\n",
       "      <td>232.61</td>\n",
       "      <td>47070900</td>\n",
       "    </tr>\n",
       "  </tbody>\n",
       "</table>\n",
       "</div>"
      ],
      "text/plain": [
       "AAPL Data Index       Date  Adj Close   Close    High     Low    Open  \\\n",
       "0               2024-10-01     225.96  226.21  229.65  223.74  229.52   \n",
       "1               2024-10-02     226.53  226.78  227.37  223.02  225.89   \n",
       "2               2024-10-03     225.42  225.67  226.81  223.32  225.14   \n",
       "3               2024-10-04     226.55  226.80  228.00  224.13  227.90   \n",
       "4               2024-10-07     221.45  221.69  225.69  221.33  224.50   \n",
       "5               2024-10-08     225.52  225.77  225.98  223.25  224.30   \n",
       "6               2024-10-09     229.29  229.54  229.75  224.83  225.23   \n",
       "7               2024-10-10     228.79  229.04  229.50  227.17  227.78   \n",
       "8               2024-10-11     227.30  227.55  229.41  227.34  229.30   \n",
       "9               2024-10-14     231.05  231.30  231.73  228.60  228.70   \n",
       "10              2024-10-15     233.59  233.85  237.49  232.37  233.61   \n",
       "11              2024-10-16     231.53  231.78  232.12  229.84  231.60   \n",
       "12              2024-10-17     231.89  232.15  233.85  230.52  233.43   \n",
       "13              2024-10-18     234.74  235.00  236.18  234.01  236.18   \n",
       "14              2024-10-21     236.22  236.48  236.85  234.45  234.45   \n",
       "15              2024-10-22     235.60  235.86  236.22  232.60  233.89   \n",
       "16              2024-10-23     230.51  230.76  235.14  227.76  234.08   \n",
       "17              2024-10-24     230.32  230.57  230.82  228.41  229.98   \n",
       "18              2024-10-25     231.16  231.41  233.22  229.57  229.74   \n",
       "19              2024-10-28     233.14  233.40  234.73  232.55  233.32   \n",
       "20              2024-10-29     233.41  233.67  234.33  232.32  233.10   \n",
       "21              2024-10-30     229.85  230.10  233.47  229.55  232.61   \n",
       "\n",
       "AAPL Data Index    Volume  \n",
       "0                63285000  \n",
       "1                32880600  \n",
       "2                34044200  \n",
       "3                37245100  \n",
       "4                39505400  \n",
       "5                31855700  \n",
       "6                33591100  \n",
       "7                28183500  \n",
       "8                31759200  \n",
       "9                39882100  \n",
       "10               64751400  \n",
       "11               34082200  \n",
       "12               32993800  \n",
       "13               46431500  \n",
       "14               36254500  \n",
       "15               38846600  \n",
       "16               52287000  \n",
       "17               31109500  \n",
       "18               38802300  \n",
       "19               36087100  \n",
       "20               35417200  \n",
       "21               47070900  "
      ]
     },
     "execution_count": 207,
     "metadata": {},
     "output_type": "execute_result"
    }
   ],
   "source": [
    "data[\"AAPL_data\"]"
   ]
  },
  {
   "cell_type": "code",
   "execution_count": 187,
   "metadata": {},
   "outputs": [
    {
     "data": {
      "text/html": [
       "<div>\n",
       "<style scoped>\n",
       "    .dataframe tbody tr th:only-of-type {\n",
       "        vertical-align: middle;\n",
       "    }\n",
       "\n",
       "    .dataframe tbody tr th {\n",
       "        vertical-align: top;\n",
       "    }\n",
       "\n",
       "    .dataframe thead th {\n",
       "        text-align: right;\n",
       "    }\n",
       "</style>\n",
       "<table border=\"1\" class=\"dataframe\">\n",
       "  <thead>\n",
       "    <tr style=\"text-align: right;\">\n",
       "      <th></th>\n",
       "      <th>uuid</th>\n",
       "      <th>title</th>\n",
       "      <th>publisher</th>\n",
       "      <th>link</th>\n",
       "      <th>providerPublishTime</th>\n",
       "      <th>type</th>\n",
       "      <th>thumbnail</th>\n",
       "      <th>relatedTickers</th>\n",
       "    </tr>\n",
       "  </thead>\n",
       "  <tbody>\n",
       "    <tr>\n",
       "      <th>0</th>\n",
       "      <td>4c6467c5-1862-376b-a3a6-193a87c2c6b8</td>\n",
       "      <td>Saxo Bank’s Outrageous 2025 Prediction for Nvi...</td>\n",
       "      <td>Insider Monkey</td>\n",
       "      <td>https://finance.yahoo.com/news/saxo-bank-outra...</td>\n",
       "      <td>1733254781</td>\n",
       "      <td>STORY</td>\n",
       "      <td>{'resolutions': [{'url': 'https://s.yimg.com/u...</td>\n",
       "      <td>[NVDA, AAPL]</td>\n",
       "    </tr>\n",
       "    <tr>\n",
       "      <th>1</th>\n",
       "      <td>4205eaa9-f620-3a0b-a81a-0e82c7c9fd0b</td>\n",
       "      <td>Magnificent Seven Stocks: Tesla Slides, While ...</td>\n",
       "      <td>Investor's Business Daily</td>\n",
       "      <td>https://finance.yahoo.com/m/4205eaa9-f620-3a0b...</td>\n",
       "      <td>1733254242</td>\n",
       "      <td>STORY</td>\n",
       "      <td>{'resolutions': [{'url': 'https://s.yimg.com/u...</td>\n",
       "      <td>[NVDA, AAPL, TSLA, META, MSFT]</td>\n",
       "    </tr>\n",
       "    <tr>\n",
       "      <th>2</th>\n",
       "      <td>9232f1da-49dc-3846-9333-f4d86d1fa63b</td>\n",
       "      <td>A current Apple employee is suing the company,...</td>\n",
       "      <td>Fortune</td>\n",
       "      <td>https://finance.yahoo.com/news/current-apple-e...</td>\n",
       "      <td>1733253424</td>\n",
       "      <td>STORY</td>\n",
       "      <td>{'resolutions': [{'url': 'https://s.yimg.com/u...</td>\n",
       "      <td>[AAPL]</td>\n",
       "    </tr>\n",
       "    <tr>\n",
       "      <th>3</th>\n",
       "      <td>0485160c-4da6-3f58-a057-bbc81ff89701</td>\n",
       "      <td>Apple (AAPL)’s AI Ambitions: Loop’s ‘Buy’ Rati...</td>\n",
       "      <td>Insider Monkey</td>\n",
       "      <td>https://finance.yahoo.com/news/apple-aapl-ai-a...</td>\n",
       "      <td>1733251840</td>\n",
       "      <td>STORY</td>\n",
       "      <td>{'resolutions': [{'url': 'https://s.yimg.com/u...</td>\n",
       "      <td>[AAPL]</td>\n",
       "    </tr>\n",
       "    <tr>\n",
       "      <th>4</th>\n",
       "      <td>ce2ffe06-f882-3e0d-8b97-fa77d137e8bb</td>\n",
       "      <td>Warren Buffett Stocks: What's Inside Berkshire...</td>\n",
       "      <td>Investor's Business Daily</td>\n",
       "      <td>https://finance.yahoo.com/m/ce2ffe06-f882-3e0d...</td>\n",
       "      <td>1733250975</td>\n",
       "      <td>STORY</td>\n",
       "      <td>{'resolutions': [{'url': 'https://s.yimg.com/u...</td>\n",
       "      <td>[BRK-A, AAPL]</td>\n",
       "    </tr>\n",
       "    <tr>\n",
       "      <th>5</th>\n",
       "      <td>b3f1533e-a4ae-308c-abe7-38af65187e3a</td>\n",
       "      <td>Apple's Multi-Year iPhone Cycle And App Store ...</td>\n",
       "      <td>Benzinga</td>\n",
       "      <td>https://finance.yahoo.com/news/apples-multi-ip...</td>\n",
       "      <td>1733250691</td>\n",
       "      <td>STORY</td>\n",
       "      <td>{'resolutions': [{'url': 'https://s.yimg.com/u...</td>\n",
       "      <td>[AAPL]</td>\n",
       "    </tr>\n",
       "    <tr>\n",
       "      <th>6</th>\n",
       "      <td>de8f9c30-0ecf-33d7-9a65-4da9b624adbd</td>\n",
       "      <td>Apple Stock Keeps Climbing. This Analyst Says ...</td>\n",
       "      <td>Barrons.com</td>\n",
       "      <td>https://finance.yahoo.com/m/de8f9c30-0ecf-33d7...</td>\n",
       "      <td>1733249940</td>\n",
       "      <td>STORY</td>\n",
       "      <td>{'resolutions': [{'url': 'https://s.yimg.com/u...</td>\n",
       "      <td>[AAPL]</td>\n",
       "    </tr>\n",
       "    <tr>\n",
       "      <th>7</th>\n",
       "      <td>cbfe6d7e-1012-3e5f-a6af-74863087d1a8</td>\n",
       "      <td>Apple Faces Lawsuit for Allegedly Spying on Em...</td>\n",
       "      <td>GuruFocus.com</td>\n",
       "      <td>https://finance.yahoo.com/news/apple-faces-law...</td>\n",
       "      <td>1733244703</td>\n",
       "      <td>STORY</td>\n",
       "      <td>{'resolutions': [{'url': 'https://s.yimg.com/u...</td>\n",
       "      <td>[AAPL]</td>\n",
       "    </tr>\n",
       "  </tbody>\n",
       "</table>\n",
       "</div>"
      ],
      "text/plain": [
       "                                   uuid  \\\n",
       "0  4c6467c5-1862-376b-a3a6-193a87c2c6b8   \n",
       "1  4205eaa9-f620-3a0b-a81a-0e82c7c9fd0b   \n",
       "2  9232f1da-49dc-3846-9333-f4d86d1fa63b   \n",
       "3  0485160c-4da6-3f58-a057-bbc81ff89701   \n",
       "4  ce2ffe06-f882-3e0d-8b97-fa77d137e8bb   \n",
       "5  b3f1533e-a4ae-308c-abe7-38af65187e3a   \n",
       "6  de8f9c30-0ecf-33d7-9a65-4da9b624adbd   \n",
       "7  cbfe6d7e-1012-3e5f-a6af-74863087d1a8   \n",
       "\n",
       "                                               title  \\\n",
       "0  Saxo Bank’s Outrageous 2025 Prediction for Nvi...   \n",
       "1  Magnificent Seven Stocks: Tesla Slides, While ...   \n",
       "2  A current Apple employee is suing the company,...   \n",
       "3  Apple (AAPL)’s AI Ambitions: Loop’s ‘Buy’ Rati...   \n",
       "4  Warren Buffett Stocks: What's Inside Berkshire...   \n",
       "5  Apple's Multi-Year iPhone Cycle And App Store ...   \n",
       "6  Apple Stock Keeps Climbing. This Analyst Says ...   \n",
       "7  Apple Faces Lawsuit for Allegedly Spying on Em...   \n",
       "\n",
       "                   publisher  \\\n",
       "0             Insider Monkey   \n",
       "1  Investor's Business Daily   \n",
       "2                    Fortune   \n",
       "3             Insider Monkey   \n",
       "4  Investor's Business Daily   \n",
       "5                   Benzinga   \n",
       "6                Barrons.com   \n",
       "7              GuruFocus.com   \n",
       "\n",
       "                                                link  providerPublishTime  \\\n",
       "0  https://finance.yahoo.com/news/saxo-bank-outra...           1733254781   \n",
       "1  https://finance.yahoo.com/m/4205eaa9-f620-3a0b...           1733254242   \n",
       "2  https://finance.yahoo.com/news/current-apple-e...           1733253424   \n",
       "3  https://finance.yahoo.com/news/apple-aapl-ai-a...           1733251840   \n",
       "4  https://finance.yahoo.com/m/ce2ffe06-f882-3e0d...           1733250975   \n",
       "5  https://finance.yahoo.com/news/apples-multi-ip...           1733250691   \n",
       "6  https://finance.yahoo.com/m/de8f9c30-0ecf-33d7...           1733249940   \n",
       "7  https://finance.yahoo.com/news/apple-faces-law...           1733244703   \n",
       "\n",
       "    type                                          thumbnail  \\\n",
       "0  STORY  {'resolutions': [{'url': 'https://s.yimg.com/u...   \n",
       "1  STORY  {'resolutions': [{'url': 'https://s.yimg.com/u...   \n",
       "2  STORY  {'resolutions': [{'url': 'https://s.yimg.com/u...   \n",
       "3  STORY  {'resolutions': [{'url': 'https://s.yimg.com/u...   \n",
       "4  STORY  {'resolutions': [{'url': 'https://s.yimg.com/u...   \n",
       "5  STORY  {'resolutions': [{'url': 'https://s.yimg.com/u...   \n",
       "6  STORY  {'resolutions': [{'url': 'https://s.yimg.com/u...   \n",
       "7  STORY  {'resolutions': [{'url': 'https://s.yimg.com/u...   \n",
       "\n",
       "                   relatedTickers  \n",
       "0                    [NVDA, AAPL]  \n",
       "1  [NVDA, AAPL, TSLA, META, MSFT]  \n",
       "2                          [AAPL]  \n",
       "3                          [AAPL]  \n",
       "4                   [BRK-A, AAPL]  \n",
       "5                          [AAPL]  \n",
       "6                          [AAPL]  \n",
       "7                          [AAPL]  "
      ]
     },
     "execution_count": 187,
     "metadata": {},
     "output_type": "execute_result"
    }
   ],
   "source": [
    "ticker = yf.Ticker(\"AAPL\")\n",
    "\n",
    "news = ticker.get_news()\n",
    "news_df = pd.DataFrame(news)\n",
    "news_df"
   ]
  },
  {
   "cell_type": "code",
   "execution_count": 188,
   "metadata": {},
   "outputs": [
    {
     "data": {
      "text/plain": [
       "['__class__',\n",
       " '__delattr__',\n",
       " '__dict__',\n",
       " '__dir__',\n",
       " '__doc__',\n",
       " '__eq__',\n",
       " '__format__',\n",
       " '__ge__',\n",
       " '__getattribute__',\n",
       " '__getstate__',\n",
       " '__gt__',\n",
       " '__hash__',\n",
       " '__init__',\n",
       " '__init_subclass__',\n",
       " '__le__',\n",
       " '__lt__',\n",
       " '__module__',\n",
       " '__ne__',\n",
       " '__new__',\n",
       " '__reduce__',\n",
       " '__reduce_ex__',\n",
       " '__repr__',\n",
       " '__setattr__',\n",
       " '__sizeof__',\n",
       " '__str__',\n",
       " '__subclasshook__',\n",
       " '__weakref__',\n",
       " '_analysis',\n",
       " '_data',\n",
       " '_download_options',\n",
       " '_earnings',\n",
       " '_earnings_dates',\n",
       " '_expirations',\n",
       " '_fast_info',\n",
       " '_fetch_ticker_tz',\n",
       " '_financials',\n",
       " '_fundamentals',\n",
       " '_funds_data',\n",
       " '_get_ticker_tz',\n",
       " '_holders',\n",
       " '_isin',\n",
       " '_lazy_load_price_history',\n",
       " '_news',\n",
       " '_options2df',\n",
       " '_price_history',\n",
       " '_quote',\n",
       " '_shares',\n",
       " '_tz',\n",
       " '_underlying',\n",
       " 'actions',\n",
       " 'analyst_price_targets',\n",
       " 'balance_sheet',\n",
       " 'balancesheet',\n",
       " 'basic_info',\n",
       " 'calendar',\n",
       " 'capital_gains',\n",
       " 'cash_flow',\n",
       " 'cashflow',\n",
       " 'dividends',\n",
       " 'earnings',\n",
       " 'earnings_dates',\n",
       " 'earnings_estimate',\n",
       " 'earnings_history',\n",
       " 'eps_revisions',\n",
       " 'eps_trend',\n",
       " 'fast_info',\n",
       " 'financials',\n",
       " 'funds_data',\n",
       " 'get_actions',\n",
       " 'get_analyst_price_targets',\n",
       " 'get_balance_sheet',\n",
       " 'get_balancesheet',\n",
       " 'get_calendar',\n",
       " 'get_capital_gains',\n",
       " 'get_cash_flow',\n",
       " 'get_cashflow',\n",
       " 'get_dividends',\n",
       " 'get_earnings',\n",
       " 'get_earnings_dates',\n",
       " 'get_earnings_estimate',\n",
       " 'get_earnings_history',\n",
       " 'get_eps_revisions',\n",
       " 'get_eps_trend',\n",
       " 'get_fast_info',\n",
       " 'get_financials',\n",
       " 'get_funds_data',\n",
       " 'get_growth_estimates',\n",
       " 'get_history_metadata',\n",
       " 'get_income_stmt',\n",
       " 'get_incomestmt',\n",
       " 'get_info',\n",
       " 'get_insider_purchases',\n",
       " 'get_insider_roster_holders',\n",
       " 'get_insider_transactions',\n",
       " 'get_institutional_holders',\n",
       " 'get_isin',\n",
       " 'get_major_holders',\n",
       " 'get_mutualfund_holders',\n",
       " 'get_news',\n",
       " 'get_recommendations',\n",
       " 'get_recommendations_summary',\n",
       " 'get_revenue_estimate',\n",
       " 'get_sec_filings',\n",
       " 'get_shares',\n",
       " 'get_shares_full',\n",
       " 'get_splits',\n",
       " 'get_sustainability',\n",
       " 'get_upgrades_downgrades',\n",
       " 'growth_estimates',\n",
       " 'history',\n",
       " 'history_metadata',\n",
       " 'income_stmt',\n",
       " 'incomestmt',\n",
       " 'info',\n",
       " 'insider_purchases',\n",
       " 'insider_roster_holders',\n",
       " 'insider_transactions',\n",
       " 'institutional_holders',\n",
       " 'isin',\n",
       " 'major_holders',\n",
       " 'mutualfund_holders',\n",
       " 'news',\n",
       " 'option_chain',\n",
       " 'options',\n",
       " 'proxy',\n",
       " 'quarterly_balance_sheet',\n",
       " 'quarterly_balancesheet',\n",
       " 'quarterly_cash_flow',\n",
       " 'quarterly_cashflow',\n",
       " 'quarterly_earnings',\n",
       " 'quarterly_financials',\n",
       " 'quarterly_income_stmt',\n",
       " 'quarterly_incomestmt',\n",
       " 'recommendations',\n",
       " 'recommendations_summary',\n",
       " 'revenue_estimate',\n",
       " 'sec_filings',\n",
       " 'session',\n",
       " 'shares',\n",
       " 'splits',\n",
       " 'sustainability',\n",
       " 'ticker',\n",
       " 'upgrades_downgrades']"
      ]
     },
     "execution_count": 188,
     "metadata": {},
     "output_type": "execute_result"
    }
   ],
   "source": [
    "dir(ticker)"
   ]
  },
  {
   "cell_type": "code",
   "execution_count": 189,
   "metadata": {},
   "outputs": [
    {
     "name": "stdout",
     "output_type": "stream",
     "text": [
      "address1: One Apple Park Way\n",
      "city: Cupertino\n",
      "state: CA\n",
      "zip: 95014\n",
      "country: United States\n",
      "phone: (408) 996-1010\n",
      "website: https://www.apple.com\n",
      "industry: Consumer Electronics\n",
      "industryKey: consumer-electronics\n",
      "industryDisp: Consumer Electronics\n",
      "sector: Technology\n",
      "sectorKey: technology\n",
      "sectorDisp: Technology\n",
      "longBusinessSummary: Apple Inc. designs, manufactures, and markets smartphones, personal computers, tablets, wearables, and accessories worldwide. The company offers iPhone, a line of smartphones; Mac, a line of personal computers; iPad, a line of multi-purpose tablets; and wearables, home, and accessories comprising AirPods, Apple TV, Apple Watch, Beats products, and HomePod. It also provides AppleCare support and cloud services; and operates various platforms, including the App Store that allow customers to discover and download applications and digital content, such as books, music, video, games, and podcasts, as well as advertising services include third-party licensing arrangements and its own advertising platforms. In addition, the company offers various subscription-based services, such as Apple Arcade, a game subscription service; Apple Fitness+, a personalized fitness service; Apple Music, which offers users a curated listening experience with on-demand radio stations; Apple News+, a subscription news and magazine service; Apple TV+, which offers exclusive original content; Apple Card, a co-branded credit card; and Apple Pay, a cashless payment service, as well as licenses its intellectual property. The company serves consumers, and small and mid-sized businesses; and the education, enterprise, and government markets. It distributes third-party applications for its products through the App Store. The company also sells its products through its retail and online stores, and direct sales force; and third-party cellular network carriers, wholesalers, retailers, and resellers. Apple Inc. was founded in 1976 and is headquartered in Cupertino, California.\n",
      "fullTimeEmployees: 164000\n",
      "companyOfficers: [{'maxAge': 1, 'name': 'Mr. Timothy D. Cook', 'age': 62, 'title': 'CEO & Director', 'yearBorn': 1961, 'fiscalYear': 2023, 'totalPay': 16239562, 'exercisedValue': 0, 'unexercisedValue': 0}, {'maxAge': 1, 'name': 'Mr. Luca  Maestri', 'age': 60, 'title': 'CFO & Senior VP', 'yearBorn': 1963, 'fiscalYear': 2023, 'totalPay': 4612242, 'exercisedValue': 0, 'unexercisedValue': 0}, {'maxAge': 1, 'name': 'Mr. Jeffrey E. Williams', 'age': 59, 'title': 'Chief Operating Officer', 'yearBorn': 1964, 'fiscalYear': 2023, 'totalPay': 4637585, 'exercisedValue': 0, 'unexercisedValue': 0}, {'maxAge': 1, 'name': 'Ms. Katherine L. Adams', 'age': 59, 'title': 'Senior VP, General Counsel & Secretary', 'yearBorn': 1964, 'fiscalYear': 2023, 'totalPay': 4618064, 'exercisedValue': 0, 'unexercisedValue': 0}, {'maxAge': 1, 'name': \"Ms. Deirdre  O'Brien\", 'age': 56, 'title': 'Chief People Officer & Senior VP of Retail', 'yearBorn': 1967, 'fiscalYear': 2023, 'totalPay': 4613369, 'exercisedValue': 0, 'unexercisedValue': 0}, {'maxAge': 1, 'name': 'Mr. Chris  Kondo', 'title': 'Senior Director of Corporate Accounting', 'fiscalYear': 2023, 'exercisedValue': 0, 'unexercisedValue': 0}, {'maxAge': 1, 'name': 'Suhasini  Chandramouli', 'title': 'Director of Investor Relations', 'fiscalYear': 2023, 'exercisedValue': 0, 'unexercisedValue': 0}, {'maxAge': 1, 'name': 'Mr. Greg  Joswiak', 'title': 'Senior Vice President of Worldwide Marketing', 'fiscalYear': 2023, 'exercisedValue': 0, 'unexercisedValue': 0}, {'maxAge': 1, 'name': 'Mr. Adrian  Perica', 'age': 49, 'title': 'Head of Corporate Development', 'yearBorn': 1974, 'fiscalYear': 2023, 'exercisedValue': 0, 'unexercisedValue': 0}, {'maxAge': 1, 'name': 'Mr. Michael  Fenger', 'title': 'VP of Worldwide Sales', 'fiscalYear': 2023, 'exercisedValue': 0, 'unexercisedValue': 0}]\n",
      "auditRisk: 6\n",
      "boardRisk: 1\n",
      "compensationRisk: 2\n",
      "shareHolderRightsRisk: 1\n",
      "overallRisk: 1\n",
      "governanceEpochDate: 1733011200\n",
      "compensationAsOfEpochDate: 1703980800\n",
      "irWebsite: http://investor.apple.com/\n",
      "maxAge: 86400\n",
      "priceHint: 2\n",
      "previousClose: 242.65\n",
      "open: 242.88\n",
      "dayLow: 241.25\n",
      "dayHigh: 244.105\n",
      "regularMarketPreviousClose: 242.65\n",
      "regularMarketOpen: 242.88\n",
      "regularMarketDayLow: 241.25\n",
      "regularMarketDayHigh: 244.105\n",
      "dividendRate: 1.0\n",
      "dividendYield: 0.0041\n",
      "exDividendDate: 1731024000\n",
      "payoutRatio: 0.1612\n",
      "fiveYearAvgDividendYield: 0.62\n",
      "beta: 1.24\n",
      "trailingPE: 39.90312\n",
      "forwardPE: 29.25188\n",
      "volume: 41848779\n",
      "regularMarketVolume: 41848779\n",
      "averageVolume: 48371926\n",
      "averageVolume10days: 43672210\n",
      "averageDailyVolume10Day: 43672210\n",
      "bid: 242.85\n",
      "ask: 243.09\n",
      "bidSize: 300\n",
      "askSize: 500\n",
      "marketCap: 3673290440704\n",
      "fiftyTwoWeekLow: 164.08\n",
      "fiftyTwoWeekHigh: 244.105\n",
      "priceToSalesTrailing12Months: 9.393764\n",
      "fiftyDayAverage: 229.4358\n",
      "twoHundredDayAverage: 206.4068\n",
      "trailingAnnualDividendRate: 0.98\n",
      "trailingAnnualDividendYield: 0.004038739\n",
      "currency: USD\n",
      "enterpriseValue: 3721742516224\n",
      "profitMargins: 0.23971\n",
      "floatShares: 15091184209\n",
      "sharesOutstanding: 15115799552\n",
      "sharesShort: 141037864\n",
      "sharesShortPriorMonth: 140919653\n",
      "sharesShortPreviousMonthDate: 1728950400\n",
      "dateShortInterest: 1731628800\n",
      "sharesPercentSharesOut: 0.0093\n",
      "heldPercentInsiders: 0.02056\n",
      "heldPercentInstitutions: 0.61903\n",
      "shortRatio: 3.21\n",
      "shortPercentOfFloat: 0.0093\n",
      "impliedSharesOutstanding: 15332100096\n",
      "bookValue: 3.767\n",
      "priceToBook: 64.510216\n",
      "lastFiscalYearEnd: 1727481600\n",
      "nextFiscalYearEnd: 1759017600\n",
      "mostRecentQuarter: 1727481600\n",
      "earningsQuarterlyGrowth: -0.358\n",
      "netIncomeToCommon: 93736001536\n",
      "trailingEps: 6.09\n",
      "forwardEps: 8.31\n",
      "lastSplitFactor: 4:1\n",
      "lastSplitDate: 1598832000\n",
      "enterpriseToRevenue: 9.518\n",
      "enterpriseToEbitda: 27.638\n",
      "52WeekChange: 0.2616992\n",
      "SandP52WeekChange: 0.32983685\n",
      "lastDividendValue: 0.25\n",
      "lastDividendDate: 1731024000\n",
      "exchange: NMS\n",
      "quoteType: EQUITY\n",
      "symbol: AAPL\n",
      "underlyingSymbol: AAPL\n",
      "shortName: Apple Inc.\n",
      "longName: Apple Inc.\n",
      "firstTradeDateEpochUtc: 345479400\n",
      "timeZoneFullName: America/New_York\n",
      "timeZoneShortName: EST\n",
      "uuid: 8b10e4ae-9eeb-3684-921a-9ab27e4d87aa\n",
      "messageBoardId: finmb_24937\n",
      "gmtOffSetMilliseconds: -18000000\n",
      "currentPrice: 243.01\n",
      "targetHighPrice: 300.0\n",
      "targetLowPrice: 184.0\n",
      "targetMeanPrice: 244.47739\n",
      "targetMedianPrice: 250.0\n",
      "recommendationMean: 1.89362\n",
      "recommendationKey: buy\n",
      "numberOfAnalystOpinions: 42\n",
      "totalCash: 65171001344\n",
      "totalCashPerShare: 4.311\n",
      "ebitda: 134660997120\n",
      "totalDebt: 119058997248\n",
      "quickRatio: 0.745\n",
      "currentRatio: 0.867\n",
      "totalRevenue: 391034994688\n",
      "debtToEquity: 209.059\n",
      "revenuePerShare: 25.485\n",
      "returnOnAssets: 0.21464\n",
      "returnOnEquity: 1.5741299\n",
      "freeCashflow: 110846001152\n",
      "operatingCashflow: 118254002176\n",
      "earningsGrowth: -0.341\n",
      "revenueGrowth: 0.061\n",
      "grossMargins: 0.46206\n",
      "ebitdaMargins: 0.34437\n",
      "operatingMargins: 0.31171\n",
      "financialCurrency: USD\n",
      "trailingPegRatio: 2.5071\n"
     ]
    }
   ],
   "source": [
    "for key, value in ticker.info.items():\n",
    "    print(f\"{key}: {value}\")"
   ]
  },
  {
   "cell_type": "code",
   "execution_count": 190,
   "metadata": {},
   "outputs": [
    {
     "data": {
      "text/plain": [
       "39.12956282740667"
      ]
     },
     "execution_count": 190,
     "metadata": {},
     "output_type": "execute_result"
    }
   ],
   "source": [
    "# PE ratio will look something like this\n",
    "ticker.info[\"previousClose\"] / (ticker.info[\"netIncomeToCommon\"] / ticker.info[\"sharesOutstanding\"])"
   ]
  },
  {
   "cell_type": "code",
   "execution_count": 191,
   "metadata": {},
   "outputs": [
    {
     "data": {
      "text/plain": [
       "0.0041"
      ]
     },
     "execution_count": 191,
     "metadata": {},
     "output_type": "execute_result"
    }
   ],
   "source": [
    "ticker.info[\"dividendYield\"]"
   ]
  },
  {
   "cell_type": "code",
   "execution_count": 192,
   "metadata": {},
   "outputs": [
    {
     "data": {
      "text/plain": [
       "1.24"
      ]
     },
     "execution_count": 192,
     "metadata": {},
     "output_type": "execute_result"
    }
   ],
   "source": [
    "ticker.info[\"beta\"]"
   ]
  },
  {
   "cell_type": "code",
   "execution_count": 193,
   "metadata": {},
   "outputs": [
    {
     "data": {
      "text/html": [
       "<div>\n",
       "<style scoped>\n",
       "    .dataframe tbody tr th:only-of-type {\n",
       "        vertical-align: middle;\n",
       "    }\n",
       "\n",
       "    .dataframe tbody tr th {\n",
       "        vertical-align: top;\n",
       "    }\n",
       "\n",
       "    .dataframe thead th {\n",
       "        text-align: right;\n",
       "    }\n",
       "</style>\n",
       "<table border=\"1\" class=\"dataframe\">\n",
       "  <thead>\n",
       "    <tr style=\"text-align: right;\">\n",
       "      <th></th>\n",
       "      <th>Open</th>\n",
       "      <th>High</th>\n",
       "      <th>Low</th>\n",
       "      <th>Close</th>\n",
       "      <th>Volume</th>\n",
       "      <th>Dividends</th>\n",
       "      <th>Stock Splits</th>\n",
       "    </tr>\n",
       "    <tr>\n",
       "      <th>Date</th>\n",
       "      <th></th>\n",
       "      <th></th>\n",
       "      <th></th>\n",
       "      <th></th>\n",
       "      <th></th>\n",
       "      <th></th>\n",
       "      <th></th>\n",
       "    </tr>\n",
       "  </thead>\n",
       "  <tbody>\n",
       "    <tr>\n",
       "      <th>2019-12-05 00:00:00-05:00</th>\n",
       "      <td>63.934952</td>\n",
       "      <td>64.443931</td>\n",
       "      <td>63.678039</td>\n",
       "      <td>64.368790</td>\n",
       "      <td>74424400</td>\n",
       "      <td>0.0</td>\n",
       "      <td>0.0</td>\n",
       "    </tr>\n",
       "    <tr>\n",
       "      <th>2019-12-06 00:00:00-05:00</th>\n",
       "      <td>64.829292</td>\n",
       "      <td>65.682434</td>\n",
       "      <td>64.785660</td>\n",
       "      <td>65.612144</td>\n",
       "      <td>106075600</td>\n",
       "      <td>0.0</td>\n",
       "      <td>0.0</td>\n",
       "    </tr>\n",
       "    <tr>\n",
       "      <th>2019-12-09 00:00:00-05:00</th>\n",
       "      <td>65.440071</td>\n",
       "      <td>65.633965</td>\n",
       "      <td>64.206406</td>\n",
       "      <td>64.693573</td>\n",
       "      <td>128042400</td>\n",
       "      <td>0.0</td>\n",
       "      <td>0.0</td>\n",
       "    </tr>\n",
       "    <tr>\n",
       "      <th>2019-12-10 00:00:00-05:00</th>\n",
       "      <td>65.100761</td>\n",
       "      <td>65.457047</td>\n",
       "      <td>64.436661</td>\n",
       "      <td>65.071678</td>\n",
       "      <td>90420400</td>\n",
       "      <td>0.0</td>\n",
       "      <td>0.0</td>\n",
       "    </tr>\n",
       "    <tr>\n",
       "      <th>2019-12-11 00:00:00-05:00</th>\n",
       "      <td>65.151634</td>\n",
       "      <td>65.706665</td>\n",
       "      <td>65.076500</td>\n",
       "      <td>65.626678</td>\n",
       "      <td>78756800</td>\n",
       "      <td>0.0</td>\n",
       "      <td>0.0</td>\n",
       "    </tr>\n",
       "    <tr>\n",
       "      <th>...</th>\n",
       "      <td>...</td>\n",
       "      <td>...</td>\n",
       "      <td>...</td>\n",
       "      <td>...</td>\n",
       "      <td>...</td>\n",
       "      <td>...</td>\n",
       "      <td>...</td>\n",
       "    </tr>\n",
       "    <tr>\n",
       "      <th>2024-11-27 00:00:00-05:00</th>\n",
       "      <td>234.470001</td>\n",
       "      <td>235.690002</td>\n",
       "      <td>233.809998</td>\n",
       "      <td>234.929993</td>\n",
       "      <td>33498400</td>\n",
       "      <td>0.0</td>\n",
       "      <td>0.0</td>\n",
       "    </tr>\n",
       "    <tr>\n",
       "      <th>2024-11-29 00:00:00-05:00</th>\n",
       "      <td>234.809998</td>\n",
       "      <td>237.809998</td>\n",
       "      <td>233.970001</td>\n",
       "      <td>237.330002</td>\n",
       "      <td>28481400</td>\n",
       "      <td>0.0</td>\n",
       "      <td>0.0</td>\n",
       "    </tr>\n",
       "    <tr>\n",
       "      <th>2024-12-02 00:00:00-05:00</th>\n",
       "      <td>237.270004</td>\n",
       "      <td>240.789993</td>\n",
       "      <td>237.160004</td>\n",
       "      <td>239.589996</td>\n",
       "      <td>48137100</td>\n",
       "      <td>0.0</td>\n",
       "      <td>0.0</td>\n",
       "    </tr>\n",
       "    <tr>\n",
       "      <th>2024-12-03 00:00:00-05:00</th>\n",
       "      <td>239.809998</td>\n",
       "      <td>242.759995</td>\n",
       "      <td>238.899994</td>\n",
       "      <td>242.649994</td>\n",
       "      <td>38861000</td>\n",
       "      <td>0.0</td>\n",
       "      <td>0.0</td>\n",
       "    </tr>\n",
       "    <tr>\n",
       "      <th>2024-12-04 00:00:00-05:00</th>\n",
       "      <td>242.880005</td>\n",
       "      <td>244.104996</td>\n",
       "      <td>241.250000</td>\n",
       "      <td>243.009995</td>\n",
       "      <td>41848779</td>\n",
       "      <td>0.0</td>\n",
       "      <td>0.0</td>\n",
       "    </tr>\n",
       "  </tbody>\n",
       "</table>\n",
       "<p>1258 rows × 7 columns</p>\n",
       "</div>"
      ],
      "text/plain": [
       "                                 Open        High         Low       Close  \\\n",
       "Date                                                                        \n",
       "2019-12-05 00:00:00-05:00   63.934952   64.443931   63.678039   64.368790   \n",
       "2019-12-06 00:00:00-05:00   64.829292   65.682434   64.785660   65.612144   \n",
       "2019-12-09 00:00:00-05:00   65.440071   65.633965   64.206406   64.693573   \n",
       "2019-12-10 00:00:00-05:00   65.100761   65.457047   64.436661   65.071678   \n",
       "2019-12-11 00:00:00-05:00   65.151634   65.706665   65.076500   65.626678   \n",
       "...                               ...         ...         ...         ...   \n",
       "2024-11-27 00:00:00-05:00  234.470001  235.690002  233.809998  234.929993   \n",
       "2024-11-29 00:00:00-05:00  234.809998  237.809998  233.970001  237.330002   \n",
       "2024-12-02 00:00:00-05:00  237.270004  240.789993  237.160004  239.589996   \n",
       "2024-12-03 00:00:00-05:00  239.809998  242.759995  238.899994  242.649994   \n",
       "2024-12-04 00:00:00-05:00  242.880005  244.104996  241.250000  243.009995   \n",
       "\n",
       "                              Volume  Dividends  Stock Splits  \n",
       "Date                                                           \n",
       "2019-12-05 00:00:00-05:00   74424400        0.0           0.0  \n",
       "2019-12-06 00:00:00-05:00  106075600        0.0           0.0  \n",
       "2019-12-09 00:00:00-05:00  128042400        0.0           0.0  \n",
       "2019-12-10 00:00:00-05:00   90420400        0.0           0.0  \n",
       "2019-12-11 00:00:00-05:00   78756800        0.0           0.0  \n",
       "...                              ...        ...           ...  \n",
       "2024-11-27 00:00:00-05:00   33498400        0.0           0.0  \n",
       "2024-11-29 00:00:00-05:00   28481400        0.0           0.0  \n",
       "2024-12-02 00:00:00-05:00   48137100        0.0           0.0  \n",
       "2024-12-03 00:00:00-05:00   38861000        0.0           0.0  \n",
       "2024-12-04 00:00:00-05:00   41848779        0.0           0.0  \n",
       "\n",
       "[1258 rows x 7 columns]"
      ]
     },
     "execution_count": 193,
     "metadata": {},
     "output_type": "execute_result"
    }
   ],
   "source": [
    "ticker = yf.Ticker(\"AAPL\")\n",
    "history = ticker.history(period=\"5y\")\n",
    "history"
   ]
  },
  {
   "cell_type": "code",
   "execution_count": 194,
   "metadata": {},
   "outputs": [
    {
     "data": {
      "text/html": [
       "<div>\n",
       "<style scoped>\n",
       "    .dataframe tbody tr th:only-of-type {\n",
       "        vertical-align: middle;\n",
       "    }\n",
       "\n",
       "    .dataframe tbody tr th {\n",
       "        vertical-align: top;\n",
       "    }\n",
       "\n",
       "    .dataframe thead th {\n",
       "        text-align: right;\n",
       "    }\n",
       "</style>\n",
       "<table border=\"1\" class=\"dataframe\">\n",
       "  <thead>\n",
       "    <tr style=\"text-align: right;\">\n",
       "      <th>Breakdown</th>\n",
       "      <th>Value</th>\n",
       "    </tr>\n",
       "  </thead>\n",
       "  <tbody>\n",
       "    <tr>\n",
       "      <th>insidersPercentHeld</th>\n",
       "      <td>0.02056</td>\n",
       "    </tr>\n",
       "    <tr>\n",
       "      <th>institutionsPercentHeld</th>\n",
       "      <td>0.61903</td>\n",
       "    </tr>\n",
       "    <tr>\n",
       "      <th>institutionsFloatPercentHeld</th>\n",
       "      <td>0.63203</td>\n",
       "    </tr>\n",
       "    <tr>\n",
       "      <th>institutionsCount</th>\n",
       "      <td>6485.00000</td>\n",
       "    </tr>\n",
       "  </tbody>\n",
       "</table>\n",
       "</div>"
      ],
      "text/plain": [
       "Breakdown                          Value\n",
       "insidersPercentHeld              0.02056\n",
       "institutionsPercentHeld          0.61903\n",
       "institutionsFloatPercentHeld     0.63203\n",
       "institutionsCount             6485.00000"
      ]
     },
     "execution_count": 194,
     "metadata": {},
     "output_type": "execute_result"
    }
   ],
   "source": [
    "ticker.major_holders"
   ]
  },
  {
   "cell_type": "code",
   "execution_count": 195,
   "metadata": {},
   "outputs": [
    {
     "data": {
      "text/html": [
       "<div>\n",
       "<style scoped>\n",
       "    .dataframe tbody tr th:only-of-type {\n",
       "        vertical-align: middle;\n",
       "    }\n",
       "\n",
       "    .dataframe tbody tr th {\n",
       "        vertical-align: top;\n",
       "    }\n",
       "\n",
       "    .dataframe thead th {\n",
       "        text-align: right;\n",
       "    }\n",
       "</style>\n",
       "<table border=\"1\" class=\"dataframe\">\n",
       "  <thead>\n",
       "    <tr style=\"text-align: right;\">\n",
       "      <th></th>\n",
       "      <th>Date Reported</th>\n",
       "      <th>Holder</th>\n",
       "      <th>pctHeld</th>\n",
       "      <th>Shares</th>\n",
       "      <th>Value</th>\n",
       "    </tr>\n",
       "  </thead>\n",
       "  <tbody>\n",
       "    <tr>\n",
       "      <th>0</th>\n",
       "      <td>2023-06-30</td>\n",
       "      <td>Vanguard Group Inc</td>\n",
       "      <td>0.0834</td>\n",
       "      <td>1303688506</td>\n",
       "      <td>252876459508</td>\n",
       "    </tr>\n",
       "    <tr>\n",
       "      <th>1</th>\n",
       "      <td>2023-06-30</td>\n",
       "      <td>Blackrock Inc.</td>\n",
       "      <td>0.0665</td>\n",
       "      <td>1039640859</td>\n",
       "      <td>201659137420</td>\n",
       "    </tr>\n",
       "    <tr>\n",
       "      <th>2</th>\n",
       "      <td>2023-06-30</td>\n",
       "      <td>Berkshire Hathaway, Inc</td>\n",
       "      <td>0.0586</td>\n",
       "      <td>915560382</td>\n",
       "      <td>177591247296</td>\n",
       "    </tr>\n",
       "    <tr>\n",
       "      <th>3</th>\n",
       "      <td>2023-06-30</td>\n",
       "      <td>State Street Corporation</td>\n",
       "      <td>0.0370</td>\n",
       "      <td>578897858</td>\n",
       "      <td>112288817516</td>\n",
       "    </tr>\n",
       "    <tr>\n",
       "      <th>4</th>\n",
       "      <td>2023-06-30</td>\n",
       "      <td>FMR, LLC</td>\n",
       "      <td>0.0196</td>\n",
       "      <td>307066638</td>\n",
       "      <td>59561715772</td>\n",
       "    </tr>\n",
       "    <tr>\n",
       "      <th>5</th>\n",
       "      <td>2023-06-30</td>\n",
       "      <td>Geode Capital Management, LLC</td>\n",
       "      <td>0.0186</td>\n",
       "      <td>291538165</td>\n",
       "      <td>56549657865</td>\n",
       "    </tr>\n",
       "    <tr>\n",
       "      <th>6</th>\n",
       "      <td>2023-06-30</td>\n",
       "      <td>Price (T.Rowe) Associates Inc</td>\n",
       "      <td>0.0145</td>\n",
       "      <td>226650943</td>\n",
       "      <td>43963483413</td>\n",
       "    </tr>\n",
       "    <tr>\n",
       "      <th>7</th>\n",
       "      <td>2023-06-30</td>\n",
       "      <td>Morgan Stanley</td>\n",
       "      <td>0.0131</td>\n",
       "      <td>204714950</td>\n",
       "      <td>39708558851</td>\n",
       "    </tr>\n",
       "    <tr>\n",
       "      <th>8</th>\n",
       "      <td>2022-12-31</td>\n",
       "      <td>Norges Bank Investment Management</td>\n",
       "      <td>0.0107</td>\n",
       "      <td>167374278</td>\n",
       "      <td>21746939940</td>\n",
       "    </tr>\n",
       "    <tr>\n",
       "      <th>9</th>\n",
       "      <td>2023-06-30</td>\n",
       "      <td>Northern Trust Corporation</td>\n",
       "      <td>0.0105</td>\n",
       "      <td>164536073</td>\n",
       "      <td>31915062079</td>\n",
       "    </tr>\n",
       "  </tbody>\n",
       "</table>\n",
       "</div>"
      ],
      "text/plain": [
       "  Date Reported                             Holder  pctHeld      Shares  \\\n",
       "0    2023-06-30                 Vanguard Group Inc   0.0834  1303688506   \n",
       "1    2023-06-30                     Blackrock Inc.   0.0665  1039640859   \n",
       "2    2023-06-30            Berkshire Hathaway, Inc   0.0586   915560382   \n",
       "3    2023-06-30           State Street Corporation   0.0370   578897858   \n",
       "4    2023-06-30                           FMR, LLC   0.0196   307066638   \n",
       "5    2023-06-30      Geode Capital Management, LLC   0.0186   291538165   \n",
       "6    2023-06-30      Price (T.Rowe) Associates Inc   0.0145   226650943   \n",
       "7    2023-06-30                     Morgan Stanley   0.0131   204714950   \n",
       "8    2022-12-31  Norges Bank Investment Management   0.0107   167374278   \n",
       "9    2023-06-30         Northern Trust Corporation   0.0105   164536073   \n",
       "\n",
       "          Value  \n",
       "0  252876459508  \n",
       "1  201659137420  \n",
       "2  177591247296  \n",
       "3  112288817516  \n",
       "4   59561715772  \n",
       "5   56549657865  \n",
       "6   43963483413  \n",
       "7   39708558851  \n",
       "8   21746939940  \n",
       "9   31915062079  "
      ]
     },
     "execution_count": 195,
     "metadata": {},
     "output_type": "execute_result"
    }
   ],
   "source": [
    "ticker.institutional_holders"
   ]
  },
  {
   "cell_type": "code",
   "execution_count": 196,
   "metadata": {},
   "outputs": [
    {
     "data": {
      "text/plain": [
       "{'Dividend Date': datetime.date(2024, 11, 13),\n",
       " 'Ex-Dividend Date': datetime.date(2024, 11, 7),\n",
       " 'Earnings Date': [datetime.date(2025, 1, 30), datetime.date(2025, 2, 3)],\n",
       " 'Earnings High': 2.5,\n",
       " 'Earnings Low': 2.19,\n",
       " 'Earnings Average': 2.35487,\n",
       " 'Revenue High': 129887000000,\n",
       " 'Revenue Low': 119563000000,\n",
       " 'Revenue Average': 124365081850}"
      ]
     },
     "execution_count": 196,
     "metadata": {},
     "output_type": "execute_result"
    }
   ],
   "source": [
    "ticker.calendar"
   ]
  },
  {
   "cell_type": "code",
   "execution_count": 197,
   "metadata": {},
   "outputs": [
    {
     "data": {
      "text/html": [
       "<div>\n",
       "<style scoped>\n",
       "    .dataframe tbody tr th:only-of-type {\n",
       "        vertical-align: middle;\n",
       "    }\n",
       "\n",
       "    .dataframe tbody tr th {\n",
       "        vertical-align: top;\n",
       "    }\n",
       "\n",
       "    .dataframe thead th {\n",
       "        text-align: right;\n",
       "    }\n",
       "</style>\n",
       "<table border=\"1\" class=\"dataframe\">\n",
       "  <thead>\n",
       "    <tr style=\"text-align: right;\">\n",
       "      <th></th>\n",
       "      <th>period</th>\n",
       "      <th>strongBuy</th>\n",
       "      <th>buy</th>\n",
       "      <th>hold</th>\n",
       "      <th>sell</th>\n",
       "      <th>strongSell</th>\n",
       "    </tr>\n",
       "  </thead>\n",
       "  <tbody>\n",
       "    <tr>\n",
       "      <th>0</th>\n",
       "      <td>0m</td>\n",
       "      <td>8</td>\n",
       "      <td>24</td>\n",
       "      <td>12</td>\n",
       "      <td>1</td>\n",
       "      <td>2</td>\n",
       "    </tr>\n",
       "    <tr>\n",
       "      <th>1</th>\n",
       "      <td>-1m</td>\n",
       "      <td>8</td>\n",
       "      <td>24</td>\n",
       "      <td>12</td>\n",
       "      <td>1</td>\n",
       "      <td>2</td>\n",
       "    </tr>\n",
       "    <tr>\n",
       "      <th>2</th>\n",
       "      <td>-2m</td>\n",
       "      <td>8</td>\n",
       "      <td>23</td>\n",
       "      <td>12</td>\n",
       "      <td>1</td>\n",
       "      <td>2</td>\n",
       "    </tr>\n",
       "    <tr>\n",
       "      <th>3</th>\n",
       "      <td>-3m</td>\n",
       "      <td>8</td>\n",
       "      <td>24</td>\n",
       "      <td>12</td>\n",
       "      <td>0</td>\n",
       "      <td>2</td>\n",
       "    </tr>\n",
       "  </tbody>\n",
       "</table>\n",
       "</div>"
      ],
      "text/plain": [
       "  period  strongBuy  buy  hold  sell  strongSell\n",
       "0     0m          8   24    12     1           2\n",
       "1    -1m          8   24    12     1           2\n",
       "2    -2m          8   23    12     1           2\n",
       "3    -3m          8   24    12     0           2"
      ]
     },
     "execution_count": 197,
     "metadata": {},
     "output_type": "execute_result"
    }
   ],
   "source": [
    "ticker.recommendations"
   ]
  },
  {
   "cell_type": "code",
   "execution_count": 198,
   "metadata": {},
   "outputs": [
    {
     "data": {
      "text/html": [
       "<div>\n",
       "<style scoped>\n",
       "    .dataframe tbody tr th:only-of-type {\n",
       "        vertical-align: middle;\n",
       "    }\n",
       "\n",
       "    .dataframe tbody tr th {\n",
       "        vertical-align: top;\n",
       "    }\n",
       "\n",
       "    .dataframe thead th {\n",
       "        text-align: right;\n",
       "    }\n",
       "</style>\n",
       "<table border=\"1\" class=\"dataframe\">\n",
       "  <thead>\n",
       "    <tr style=\"text-align: right;\">\n",
       "      <th></th>\n",
       "      <th>esgScores</th>\n",
       "    </tr>\n",
       "  </thead>\n",
       "  <tbody>\n",
       "    <tr>\n",
       "      <th>maxAge</th>\n",
       "      <td>86400</td>\n",
       "    </tr>\n",
       "    <tr>\n",
       "      <th>totalEsg</th>\n",
       "      <td>16.79</td>\n",
       "    </tr>\n",
       "    <tr>\n",
       "      <th>environmentScore</th>\n",
       "      <td>0.55</td>\n",
       "    </tr>\n",
       "    <tr>\n",
       "      <th>socialScore</th>\n",
       "      <td>7.52</td>\n",
       "    </tr>\n",
       "    <tr>\n",
       "      <th>governanceScore</th>\n",
       "      <td>8.72</td>\n",
       "    </tr>\n",
       "    <tr>\n",
       "      <th>ratingYear</th>\n",
       "      <td>2024</td>\n",
       "    </tr>\n",
       "    <tr>\n",
       "      <th>ratingMonth</th>\n",
       "      <td>11</td>\n",
       "    </tr>\n",
       "    <tr>\n",
       "      <th>highestControversy</th>\n",
       "      <td>3.0</td>\n",
       "    </tr>\n",
       "    <tr>\n",
       "      <th>peerCount</th>\n",
       "      <td>238</td>\n",
       "    </tr>\n",
       "    <tr>\n",
       "      <th>esgPerformance</th>\n",
       "      <td>LAG_PERF</td>\n",
       "    </tr>\n",
       "    <tr>\n",
       "      <th>peerGroup</th>\n",
       "      <td>Technology Hardware</td>\n",
       "    </tr>\n",
       "    <tr>\n",
       "      <th>relatedControversy</th>\n",
       "      <td>[Customer Incidents;Social Supply Chain Incide...</td>\n",
       "    </tr>\n",
       "    <tr>\n",
       "      <th>peerEsgScorePerformance</th>\n",
       "      <td>{'min': 4.46, 'avg': 15.839243697478981, 'max'...</td>\n",
       "    </tr>\n",
       "    <tr>\n",
       "      <th>peerGovernancePerformance</th>\n",
       "      <td>{'min': 0.76, 'avg': 4.913255813953486, 'max':...</td>\n",
       "    </tr>\n",
       "    <tr>\n",
       "      <th>peerSocialPerformance</th>\n",
       "      <td>{'min': 1.4, 'avg': 5.26174418604651, 'max': 1...</td>\n",
       "    </tr>\n",
       "    <tr>\n",
       "      <th>peerEnvironmentPerformance</th>\n",
       "      <td>{'min': 0.17, 'avg': 3.148139534883721, 'max':...</td>\n",
       "    </tr>\n",
       "    <tr>\n",
       "      <th>peerHighestControversyPerformance</th>\n",
       "      <td>{'min': 0.0, 'avg': 0.5546218487394958, 'max':...</td>\n",
       "    </tr>\n",
       "    <tr>\n",
       "      <th>percentile</th>\n",
       "      <td>None</td>\n",
       "    </tr>\n",
       "    <tr>\n",
       "      <th>environmentPercentile</th>\n",
       "      <td>None</td>\n",
       "    </tr>\n",
       "    <tr>\n",
       "      <th>socialPercentile</th>\n",
       "      <td>None</td>\n",
       "    </tr>\n",
       "    <tr>\n",
       "      <th>governancePercentile</th>\n",
       "      <td>None</td>\n",
       "    </tr>\n",
       "    <tr>\n",
       "      <th>adult</th>\n",
       "      <td>False</td>\n",
       "    </tr>\n",
       "    <tr>\n",
       "      <th>alcoholic</th>\n",
       "      <td>False</td>\n",
       "    </tr>\n",
       "    <tr>\n",
       "      <th>animalTesting</th>\n",
       "      <td>False</td>\n",
       "    </tr>\n",
       "    <tr>\n",
       "      <th>catholic</th>\n",
       "      <td>None</td>\n",
       "    </tr>\n",
       "    <tr>\n",
       "      <th>controversialWeapons</th>\n",
       "      <td>False</td>\n",
       "    </tr>\n",
       "    <tr>\n",
       "      <th>smallArms</th>\n",
       "      <td>False</td>\n",
       "    </tr>\n",
       "    <tr>\n",
       "      <th>furLeather</th>\n",
       "      <td>False</td>\n",
       "    </tr>\n",
       "    <tr>\n",
       "      <th>gambling</th>\n",
       "      <td>False</td>\n",
       "    </tr>\n",
       "    <tr>\n",
       "      <th>gmo</th>\n",
       "      <td>False</td>\n",
       "    </tr>\n",
       "    <tr>\n",
       "      <th>militaryContract</th>\n",
       "      <td>False</td>\n",
       "    </tr>\n",
       "    <tr>\n",
       "      <th>nuclear</th>\n",
       "      <td>False</td>\n",
       "    </tr>\n",
       "    <tr>\n",
       "      <th>pesticides</th>\n",
       "      <td>False</td>\n",
       "    </tr>\n",
       "    <tr>\n",
       "      <th>palmOil</th>\n",
       "      <td>False</td>\n",
       "    </tr>\n",
       "    <tr>\n",
       "      <th>coal</th>\n",
       "      <td>False</td>\n",
       "    </tr>\n",
       "    <tr>\n",
       "      <th>tobacco</th>\n",
       "      <td>False</td>\n",
       "    </tr>\n",
       "  </tbody>\n",
       "</table>\n",
       "</div>"
      ],
      "text/plain": [
       "                                                                           esgScores\n",
       "maxAge                                                                         86400\n",
       "totalEsg                                                                       16.79\n",
       "environmentScore                                                                0.55\n",
       "socialScore                                                                     7.52\n",
       "governanceScore                                                                 8.72\n",
       "ratingYear                                                                      2024\n",
       "ratingMonth                                                                       11\n",
       "highestControversy                                                               3.0\n",
       "peerCount                                                                        238\n",
       "esgPerformance                                                              LAG_PERF\n",
       "peerGroup                                                        Technology Hardware\n",
       "relatedControversy                 [Customer Incidents;Social Supply Chain Incide...\n",
       "peerEsgScorePerformance            {'min': 4.46, 'avg': 15.839243697478981, 'max'...\n",
       "peerGovernancePerformance          {'min': 0.76, 'avg': 4.913255813953486, 'max':...\n",
       "peerSocialPerformance              {'min': 1.4, 'avg': 5.26174418604651, 'max': 1...\n",
       "peerEnvironmentPerformance         {'min': 0.17, 'avg': 3.148139534883721, 'max':...\n",
       "peerHighestControversyPerformance  {'min': 0.0, 'avg': 0.5546218487394958, 'max':...\n",
       "percentile                                                                      None\n",
       "environmentPercentile                                                           None\n",
       "socialPercentile                                                                None\n",
       "governancePercentile                                                            None\n",
       "adult                                                                          False\n",
       "alcoholic                                                                      False\n",
       "animalTesting                                                                  False\n",
       "catholic                                                                        None\n",
       "controversialWeapons                                                           False\n",
       "smallArms                                                                      False\n",
       "furLeather                                                                     False\n",
       "gambling                                                                       False\n",
       "gmo                                                                            False\n",
       "militaryContract                                                               False\n",
       "nuclear                                                                        False\n",
       "pesticides                                                                     False\n",
       "palmOil                                                                        False\n",
       "coal                                                                           False\n",
       "tobacco                                                                        False"
      ]
     },
     "execution_count": 198,
     "metadata": {},
     "output_type": "execute_result"
    }
   ],
   "source": [
    "ticker.sustainability"
   ]
  }
 ],
 "metadata": {
  "kernelspec": {
   "display_name": "Python 3",
   "language": "python",
   "name": "python3"
  },
  "language_info": {
   "codemirror_mode": {
    "name": "ipython",
    "version": 3
   },
   "file_extension": ".py",
   "mimetype": "text/x-python",
   "name": "python",
   "nbconvert_exporter": "python",
   "pygments_lexer": "ipython3",
   "version": "3.11.3"
  }
 },
 "nbformat": 4,
 "nbformat_minor": 2
}
